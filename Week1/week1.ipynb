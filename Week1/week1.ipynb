{
  "cells": [
    {
      "cell_type": "markdown",
      "metadata": {
        "id": "FHo5EPHSmH31"
      },
      "source": [
        "# NumPy Basics: Arrays and Vectorized Computation\n",
        "\n",
        "NumPy, short for Numerical Python, is one of the most important foundational pack\n",
        "ages for numerical computing in Python. Many computational packages providing scientific functionality use NumPy’s array objects as one of the standard interface lingua francas for data exchange. Much of the knowledge about NumPy that I cover is transferable to pandas as well.\n",
        "\n",
        "Here are some of the things you’ll find in NumPy:\n",
        "1. ndarray, an efficient multidimensional array providing fast array-oriented arith\n",
        "metic operations and flexible broadcasting capabilities\n",
        "2. Mathematical functions for fast operations on entire arrays of data without hav\n",
        "ing to write loops\n",
        "3. Tools for reading/writing array data to disk and working with memory-mapped\n",
        " files\n",
        "4. Linear algebra, random number generation, and Fourier transform capabilities\n",
        "5. A C API for connecting NumPy with libraries written in C, C++, or FORTRAN.\n",
        "\n",
        "Because NumPy provides a comprehensive and well-documented C API, it is straightforward to pass data to external libraries written in a low-level language, and for external libraries to return data to Python as NumPy arrays. This feature has made Python a language of choice for wrapping legacy C, C++, or FORTRAN codebases and giving them a dynamic and accessible interface.\n",
        "\n",
        "While NumPy by itself does not provide modeling or scientific functionality, having an understanding of NumPy arrays and array-oriented computing will help you use tools with array computing semantics, like pandas, much more effectively.\n",
        "\n",
        "For most data analysis applications, the main areas of functionality I’ll focus on are:\n",
        "\n",
        "1. Fast array-based operations for data munging and cleaning, subsetting and filter\n",
        "ing, transformation, and any other kind of computation\n",
        "2. Common array algorithms like sorting, unique, and set operations\n",
        "3. Efficient descriptive statistics and aggregating/summarizing data\n",
        "4. Data alignment and relational data manipulations for merging and joining heter\n",
        "ogeneous datasets\n",
        "5. Expressing conditional logic as array expressions instead of loops with if-elif\n",
        "else branches\n",
        "6. Group-wise data manipulations (aggregation, transformation, and function application)\n",
        "\n",
        "While NumPy provides a computational foundation for general numerical data\n",
        "processing, many readers will want to use pandas as the basis for most kinds of statistics or analytics, especially on tabular data. Also, pandas provides some more domain-specific functionality like time series manipulation, which is not present in NumPy"
      ]
    },
    {
      "cell_type": "markdown",
      "metadata": {
        "id": "5o2r7fWfnzYp"
      },
      "source": [
        " One of the reasons NumPy is so important for numerical computations in Python is\n",
        " because it is designed for efficiency on large arrays of data. There are a number of\n",
        " reasons for this:\n",
        "\n",
        "1. NumPy internally stores data in a contiguous block of memory, independent of\n",
        " other built-in Python objects. NumPy’s library of algorithms written in the C lan\n",
        "guage can operate on this memory without any type checking or other overhead.\n",
        " NumPy arrays also use much less memory than built-in Python sequences.\n",
        "2. NumPy operations perform complex computations on entire arrays without the need for Python for loops, which can be slow for large sequences. NumPy is faster than regular Python code because its C-based algorithms avoid overhead present with regular interpreted Python code. To give you an idea of the performance difference, consider a NumPy array of one\n",
        " million integers, and the equivalent Python list\n"
      ]
    },
    {
      "cell_type": "code",
      "execution_count": 2,
      "metadata": {
        "id": "ZUbIvqpxl9CI"
      },
      "outputs": [],
      "source": [
        "import numpy as np\n",
        "\n",
        "my_arr = np.arange(1_000_000)\n",
        "my_list = list(range(1_000_000))"
      ]
    },
    {
      "cell_type": "markdown",
      "metadata": {
        "id": "X_Cf5K2FoY-c"
      },
      "source": [
        "NumPy-based algorithms are generally 10 to 100 times faster (or more) than their\n",
        " pure Python counterparts and use significantly less memory."
      ]
    },
    {
      "cell_type": "code",
      "execution_count": 3,
      "metadata": {
        "colab": {
          "base_uri": "https://localhost:8080/"
        },
        "id": "RK3Mmj1yl9CJ",
        "outputId": "10bdf401-480e-4086-b647-2c0d0700c0bf"
      },
      "outputs": [
        {
          "name": "stdout",
          "output_type": "stream",
          "text": [
            "940 µs ± 159 µs per loop (mean ± std. dev. of 7 runs, 1000 loops each)\n",
            "51.1 ms ± 972 µs per loop (mean ± std. dev. of 7 runs, 10 loops each)\n"
          ]
        }
      ],
      "source": [
        "%timeit my_arr2 = my_arr * 2\n",
        "%timeit my_list2 = [x * 2 for x in my_list]"
      ]
    },
    {
      "cell_type": "markdown",
      "metadata": {
        "id": "nJf6YJgGohSe"
      },
      "source": [
        "##  The NumPy ndarray: A Multidimensional Array Object\n",
        " One of the key features of NumPy is its N-dimensional array object, or ndarray,\n",
        " which is a fast, flexible container for large datasets in Python. Arrays enable you to\n",
        " perform mathematical operations on whole blocks of data using similar syntax to the\n",
        " equivalent operations between scalar elements.\n",
        " To give you a flavor of how NumPy enables batch computations with similar syntax\n",
        " to scalar values on built-in Python objects, I first import NumPy and create a small\n",
        " array:"
      ]
    },
    {
      "cell_type": "code",
      "execution_count": null,
      "metadata": {
        "id": "bhvRtqCWl9CK"
      },
      "outputs": [],
      "source": [
        "import numpy as np\n",
        "data = np.array([[1.5, -0.1, 3], [0, -3, 6.5]])\n",
        "data"
      ]
    },
    {
      "cell_type": "code",
      "execution_count": null,
      "metadata": {
        "id": "dW6NmECRl9CK"
      },
      "outputs": [],
      "source": [
        "data * 10\n",
        "data + data"
      ]
    },
    {
      "cell_type": "markdown",
      "metadata": {
        "id": "K1xQ4Qrvotkd"
      },
      "source": [
        " In the first example, all of the elements have been multiplied by 10. In the second, the\n",
        " corresponding values in each “cell” in the array have been added to each other.\n",
        "\n",
        " An ndarray is a generic multidimensional container for homogeneous data; that is, all\n",
        " of the elements must be the same type. Every array has a shape, a tuple indicating the\n",
        " size of each dimension, and a dtype, an object describing the data type of the array:"
      ]
    },
    {
      "cell_type": "code",
      "execution_count": null,
      "metadata": {
        "id": "lyJ-tfQil9CK"
      },
      "outputs": [],
      "source": [
        "data.shape\n",
        "data.dtype"
      ]
    },
    {
      "cell_type": "markdown",
      "metadata": {
        "id": "_hDAlGdwo7L3"
      },
      "source": [
        "###  Creating ndarrays\n",
        " The easiest way to create an array is to use the array function. This accepts any\n",
        " sequence-like object (including other arrays) and produces a new NumPy array\n",
        " containing the passed data. For example, a list is a good candidate for conversion:"
      ]
    },
    {
      "cell_type": "code",
      "execution_count": null,
      "metadata": {
        "id": "eNANKUnnl9CL"
      },
      "outputs": [],
      "source": [
        "data1 = [6, 7.5, 8, 0, 1]\n",
        "arr1 = np.array(data1)\n",
        "arr1"
      ]
    },
    {
      "cell_type": "code",
      "execution_count": null,
      "metadata": {
        "id": "1nBHaGIwl9CM"
      },
      "outputs": [],
      "source": [
        "data2 = [[1, 2, 3, 4], [5, 6, 7, 8]]\n",
        "arr2 = np.array(data2)\n",
        "arr2"
      ]
    },
    {
      "cell_type": "markdown",
      "metadata": {
        "id": "xxrZwWObpDdt"
      },
      "source": [
        "Since data2 was a list of lists, the NumPy array arr2 has two dimensions, with\n",
        " shape inferred from the data. We can confirm this by inspecting the ndim and shape\n",
        " attributes:"
      ]
    },
    {
      "cell_type": "code",
      "execution_count": null,
      "metadata": {
        "id": "HCAUrRXJl9CM"
      },
      "outputs": [],
      "source": [
        "arr2.ndim\n",
        "arr2.shape"
      ]
    },
    {
      "cell_type": "code",
      "execution_count": null,
      "metadata": {
        "id": "SnLjqRYXl9CN"
      },
      "outputs": [],
      "source": [
        "arr1.dtype\n",
        "arr2.dtype"
      ]
    },
    {
      "cell_type": "markdown",
      "metadata": {
        "id": "zHfku373pVt8"
      },
      "source": [
        "In addition to numpy.array, there are a number of other functions for creating\n",
        " new arrays. As examples, numpy.zeros and numpy.ones create arrays of 0s or 1s,\n",
        " respectively, with a given length or shape. numpy.empty creates an array without\n",
        " initializing its values to any particular value. To create a higher dimensional array\n",
        " with these methods, pass a tuple for the shape:"
      ]
    },
    {
      "cell_type": "code",
      "execution_count": null,
      "metadata": {
        "id": "A70_iHoml9CN"
      },
      "outputs": [],
      "source": [
        "np.zeros(10)\n",
        "np.zeros((3, 6))\n",
        "np.empty((2, 3, 2))"
      ]
    },
    {
      "cell_type": "markdown",
      "metadata": {
        "id": "ObZk7PnHpqWt"
      },
      "source": [
        " It’s not safe to assume that numpy.empty will return an array of all\n",
        " zeros. This function returns uninitialized memory and thus may\n",
        " contain nonzero “garbage” values. You should use this function\n",
        " only if you intend to populate the new array with data.\n",
        "\n",
        "  numpy.arange is an array-valued version of the built-in Python range function:\n"
      ]
    },
    {
      "cell_type": "code",
      "execution_count": null,
      "metadata": {
        "id": "pdNbh4TLl9CO"
      },
      "outputs": [],
      "source": [
        "np.arange(15)"
      ]
    },
    {
      "cell_type": "markdown",
      "metadata": {
        "id": "rK-3lymEpzPo"
      },
      "source": [
        "![image.png](data:image/png;base64,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)"
      ]
    },
    {
      "cell_type": "markdown",
      "metadata": {
        "id": "ig3UfGtQrk8d"
      },
      "source": [
        "## Exercise 1: Treasure Map Explorer\n",
        "You’ve found a treasure map with cryptic coordinates! Your task is to write a program that processes the map data and helps locate the treasure.\n",
        "\n",
        "### Description\n",
        "- The map is represented as a grid of integers where each cell contains a \"clue.\"\n",
        "- The treasure is located at the maximum value in the grid.\n",
        "- You will write functions to:\n",
        "  - Generate the grid from random values.\n",
        "  - Find the dimensions and shape of the grid.\n",
        "  - Locate the treasure (position of the maximum value).\n",
        "  - Double-check the grid by applying transformations (e.g., scaling all values).\n"
      ]
    },
    {
      "cell_type": "code",
      "execution_count": 8,
      "metadata": {
        "id": "EdWvQILdr77L"
      },
      "outputs": [
        {
          "name": "stdout",
          "output_type": "stream",
          "text": [
            "Treasure Map:\n",
            "[[59 61 83 80 59]\n",
            " [54  1 59 81 90]\n",
            " [52 10 93 44 92]\n",
            " [29 85 33 61 79]\n",
            " [ 8 14 54 71 69]]\n",
            "Dimensions: 2, Shape: (5, 5)\n",
            "Treasure is located at position: [[12]]\n",
            "Transformed Map:\n",
            "[[118 122 166 160 118]\n",
            " [108   2 118 162 180]\n",
            " [104  20 186  88 184]\n",
            " [ 58 170  66 122 158]\n",
            " [ 16  28 108 142 138]]\n"
          ]
        }
      ],
      "source": [
        "# EXERCISE: Treasure Map Explorer\n",
        "import numpy as np\n",
        "\n",
        "# TODO: Function 1: Generate the treasure map\n",
        "# This function should:\n",
        "# 1. Take two arguments (rows, cols) to specify the grid size.\n",
        "# 2. Return a NumPy array filled with random integers (e.g., between 1 and 100).\n",
        "def generate_map(rows, cols):\n",
        "  \"\"\"\n",
        "  Generate a treasure map with random clues.\n",
        "\n",
        "  Args:\n",
        "      rows (int): Number of rows in the map.\n",
        "      cols (int): Number of columns in the map.\n",
        "\n",
        "  Returns:\n",
        "      np.ndarray: The treasure map as a 2D NumPy array.\n",
        "  \"\"\"\n",
        "  # Hint: Use np.random.randint to create random integers\n",
        "  # TODO: Replace with your code\n",
        "\n",
        "  return np.random.randint(1, 100, size=(rows, cols))\n",
        "\n",
        "# TODO: Function 2: Analyze the map\n",
        "# This function should:\n",
        "# 1. Take the treasure map as input.\n",
        "# 2. Return its dimensions and shape.\n",
        "def analyze_map(treasure_map):\n",
        "  \"\"\"\n",
        "  Analyze the dimensions and shape of the treasure map.\n",
        "\n",
        "  Args:\n",
        "      treasure_map (np.ndarray): The treasure map.\n",
        "\n",
        "  Returns:\n",
        "      tuple: (dimensions, shape) of the map.\n",
        "  \"\"\"\n",
        "  # Hint: Use the ndim and shape attributes of NumPy arrays\n",
        "  # TODO: Replace with your code\n",
        "\n",
        "  return treasure_map.ndim, treasure_map.shape\n",
        "\n",
        "# TODO: Function 3: Find the treasure\n",
        "# This function should:\n",
        "# 1. Take the treasure map as input.\n",
        "# 2. Return the position (row, col) of the maximum value in the map.\n",
        "def find_treasure(treasure_map):\n",
        "  \"\"\"\n",
        "  Locate the treasure in the map.\n",
        "\n",
        "  Args:\n",
        "      treasure_map (np.ndarray): The treasure map.\n",
        "\n",
        "  Returns:\n",
        "      tuple: Position of the treasure as (row, col).\n",
        "  \"\"\"\n",
        "  # Hint: Use np.argmax and unravel_index\n",
        "  # TODO: Replace with your code\n",
        "\n",
        "  return np.argmax(treasure_map, keepdims=True)\n",
        "\n",
        "# TODO: Function 4: Transform the map\n",
        "# This function should:\n",
        "# 1. Take the treasure map and a multiplier as input.\n",
        "# 2. Return a new map where all values are multiplied by the multiplier.\n",
        "def transform_map(treasure_map, multiplier):\n",
        "  \"\"\"\n",
        "  Scale the treasure map values.\n",
        "\n",
        "  Args:\n",
        "      treasure_map (np.ndarray): The treasure map.\n",
        "      multiplier (int or float): The scale factor.\n",
        "\n",
        "  Returns:\n",
        "      np.ndarray: Transformed treasure map.\n",
        "  \"\"\"\n",
        "  # Hint: Use element-wise multiplication with NumPy arrays\n",
        "  return treasure_map * multiplier\n",
        "\n",
        "# MAIN PROGRAM\n",
        "# Step 1: Generate a 5x5 treasure map\n",
        "# Step 2: Analyze the map and print its dimensions and shape\n",
        "# Step 3: Find the treasure's position and print it\n",
        "# Step 4: Transform the map by doubling all values and print the result\n",
        "\n",
        "def main():\n",
        "  # Generate a 5x5 treasure map\n",
        "  treasure_map = generate_map(5, 5)\n",
        "  print(\"Treasure Map:\")\n",
        "  print(treasure_map)\n",
        "\n",
        "  # Analyze the map\n",
        "  dimensions, shape = analyze_map(treasure_map)\n",
        "  print(f\"Dimensions: {dimensions}, Shape: {shape}\")\n",
        "\n",
        "  # Find the treasure\n",
        "  treasure_pos = find_treasure(treasure_map)\n",
        "  print(f\"Treasure is located at position: {treasure_pos}\")\n",
        "\n",
        "  # Transform the map\n",
        "  transformed_map = transform_map(treasure_map, 2)\n",
        "  print(\"Transformed Map:\")\n",
        "  print(transformed_map)\n",
        "  \n",
        "main()\n"
      ]
    },
    {
      "cell_type": "markdown",
      "metadata": {
        "id": "hOwjcmp8sc8e"
      },
      "source": [
        "## Exercise 2: Weather Analyzer\n",
        "You’re developing a weather analytics tool for a smart city project. Your task is to analyze temperature data from sensors.\n",
        "\n",
        "### Description\n",
        "- The data is represented as a 7x24 matrix where rows represent days of the week and columns represent hourly temperatures.\n",
        "- Write functions to:\n",
        "  - Generate the temperature data.\n",
        "  - Find the average temperature for each day.\n",
        "  - Identify the hottest hour of the week.\n",
        "  - Normalize the temperature values to a scale of 0-1."
      ]
    },
    {
      "cell_type": "code",
      "execution_count": null,
      "metadata": {
        "id": "rou3r8zPsnRT"
      },
      "outputs": [],
      "source": [
        "# EXERCISE: Weather Analyzer\n",
        "import numpy as np\n",
        "\n",
        "# TODO: Function 1: Generate temperature data\n",
        "# This function should:\n",
        "# 1. Create a 7x24 matrix filled with random temperatures (e.g., between -10 and 40).\n",
        "# 2. Return the temperature data.\n",
        "def generate_temperature_data():\n",
        "  \"\"\"\n",
        "  Generate weekly temperature data.\n",
        "\n",
        "  Returns:\n",
        "      np.ndarray: A 7x24 matrix of random temperatures.\n",
        "  \"\"\"\n",
        "  # Hint: Use np.random.randint to create random temperatures\n",
        "  pass  # TODO: Replace with your code\n",
        "\n",
        "# TODO: Function 2: Calculate daily averages\n",
        "# This function should:\n",
        "# 1. Take the temperature matrix as input.\n",
        "# 2. Return a 1D array of average temperatures for each day.\n",
        "def calculate_daily_averages(temperature_data):\n",
        "  \"\"\"\n",
        "  Calculate daily average temperatures.\n",
        "\n",
        "  Args:\n",
        "      temperature_data (np.ndarray): 7x24 matrix of temperatures.\n",
        "\n",
        "  Returns:\n",
        "      np.ndarray: 1D array of daily averages.\n",
        "  \"\"\"\n",
        "  # Hint: Use np.mean with axis=1\n",
        "  pass  # TODO: Replace with your code\n",
        "\n",
        "# TODO: Function 3: Find the hottest hour\n",
        "# This function should:\n",
        "# 1. Take the temperature matrix as input.\n",
        "# 2. Return the day and hour with the highest temperature.\n",
        "def find_hottest_hour(temperature_data):\n",
        "  \"\"\"\n",
        "  Identify the hottest hour of the week.\n",
        "\n",
        "  Args:\n",
        "      temperature_data (np.ndarray): 7x24 matrix of temperatures.\n",
        "\n",
        "  Returns:\n",
        "      tuple: Day and hour of the highest temperature.\n",
        "  \"\"\"\n",
        "  # Hint: Use np.argmax and unravel_index\n",
        "  pass  # TODO: Replace with your code\n",
        "\n",
        "# TODO: Function 4: Normalize temperatures\n",
        "# This function should:\n",
        "# 1. Take the temperature matrix as input.\n",
        "# 2. Return a new matrix with values normalized to the range 0-1.\n",
        "def normalize_temperatures(temperature_data):\n",
        "  \"\"\"\n",
        "  Normalize temperature values to the range 0-1.\n",
        "\n",
        "  Args:\n",
        "      temperature_data (np.ndarray): 7x24 matrix of temperatures.\n",
        "\n",
        "  Returns:\n",
        "      np.ndarray: Normalized temperature matrix.\n",
        "  \"\"\"\n",
        "  # Hint: Use (data - min) / (max - min)\n",
        "  pass  # TODO: Replace with your code\n",
        "\n",
        "# MAIN PROGRAM\n",
        "# Step 1: Generate weekly temperature data\n",
        "# Step 2: Calculate and print daily averages\n",
        "# Step 3: Find and print the hottest hour\n",
        "# Step 4: Normalize and print the temperature data\n"
      ]
    },
    {
      "cell_type": "markdown",
      "metadata": {},
      "source": [
        "Data Types for ndarrays\n",
        "The  data  type  or  dtype  is  a  special  object  containing  the  information  (or  metadata,\n",
        "data  about  data)  the  ndarray  needs  to  interpret  a  chunk  of  memory  as  a  particular\n",
        "type of data:"
      ]
    },
    {
      "cell_type": "code",
      "execution_count": null,
      "metadata": {
        "id": "6k69xk9zl9CO"
      },
      "outputs": [],
      "source": [
        "arr1 = np.array([1, 2, 3], dtype=np.float64)\n",
        "arr2 = np.array([1, 2, 3], dtype=np.int32)\n",
        "arr1.dtype\n",
        "arr2.dtype"
      ]
    },
    {
      "cell_type": "markdown",
      "metadata": {},
      "source": [
        "You  can  explicitly  convert  or  cast  an  array  from  one  data  type  to  another  using\n",
        "ndarray’s astype method"
      ]
    },
    {
      "cell_type": "code",
      "execution_count": null,
      "metadata": {
        "id": "X8_dWkYel9CO"
      },
      "outputs": [],
      "source": [
        "arr = np.array([1, 2, 3, 4, 5])\n",
        "arr.dtype\n",
        "float_arr = arr.astype(np.float64)\n",
        "float_arr\n",
        "float_arr.dtype"
      ]
    },
    {
      "cell_type": "markdown",
      "metadata": {},
      "source": [
        "In  this  example,  integers  were  cast  to  floating  point.  If  I  cast  some  floating-point\n",
        "numbers to be of integer data type, the decimal part will be truncated"
      ]
    },
    {
      "cell_type": "code",
      "execution_count": null,
      "metadata": {
        "id": "qlQI5kytl9CP"
      },
      "outputs": [],
      "source": [
        "arr = np.array([3.7, -1.2, -2.6, 0.5, 12.9, 10.1])\n",
        "arr\n",
        "arr.astype(np.int32)"
      ]
    },
    {
      "cell_type": "markdown",
      "metadata": {},
      "source": [
        "If you have an array of strings representing numbers, you can use astype to convert\n",
        "them to numeric form"
      ]
    },
    {
      "cell_type": "code",
      "execution_count": null,
      "metadata": {
        "id": "PCdFDwtul9CP"
      },
      "outputs": [],
      "source": [
        "numeric_strings = np.array([\"1.25\", \"-9.6\", \"42\"], dtype=np.string_)\n",
        "numeric_strings.astype(float)"
      ]
    },
    {
      "cell_type": "markdown",
      "metadata": {},
      "source": [
        "If  casting  were  to  fail  for  some  reason  (like  a  string  that  cannot  be  converted  to\n",
        "float64),  a  ValueError  will  be  raised.  Before,  I  was  a  bit  lazy  and  wrote  float\n",
        "instead  of  np.float64;  NumPy  aliases  the  Python  types  to  its  own  equivalent  data\n",
        "types.\n",
        "You can also use another array’s dtype attribute"
      ]
    },
    {
      "cell_type": "code",
      "execution_count": null,
      "metadata": {
        "id": "EvZANzi1l9CP"
      },
      "outputs": [],
      "source": [
        "int_array = np.arange(10)\n",
        "calibers = np.array([.22, .270, .357, .380, .44, .50], dtype=np.float64)\n",
        "int_array.astype(calibers.dtype)"
      ]
    },
    {
      "cell_type": "markdown",
      "metadata": {},
      "source": [
        "There are shorthand type code strings you can also use to refer to a dtype"
      ]
    },
    {
      "cell_type": "code",
      "execution_count": null,
      "metadata": {
        "id": "eL2lXNyJl9CP"
      },
      "outputs": [],
      "source": [
        "zeros_uint32 = np.zeros(8, dtype=\"u4\")\n",
        "zeros_uint32"
      ]
    },
    {
      "cell_type": "markdown",
      "metadata": {},
      "source": [
        "### Arithmetic with NumPy Arrays\n",
        "Arrays  are  important  because  they  enable  you  to  express  batch  operations  on  data\n",
        "without  writing  any  for  loops.  NumPy  users  call  this  vectorization.  Any  arithmetic\n",
        "operations between equal-size arrays apply the operation element-wise"
      ]
    },
    {
      "cell_type": "code",
      "execution_count": null,
      "metadata": {
        "id": "96GpuHGJl9CQ"
      },
      "outputs": [],
      "source": [
        "arr = np.array([[1., 2., 3.], [4., 5., 6.]])\n",
        "arr\n",
        "arr * arr\n",
        "arr - arr"
      ]
    },
    {
      "cell_type": "markdown",
      "metadata": {},
      "source": [
        "Arithmetic operations with scalars propagate the scalar argument to each element in\n",
        "the array"
      ]
    },
    {
      "cell_type": "code",
      "execution_count": null,
      "metadata": {
        "id": "SPRek__Ml9CQ"
      },
      "outputs": [],
      "source": [
        "1 / arr\n",
        "arr ** 2"
      ]
    },
    {
      "cell_type": "markdown",
      "metadata": {},
      "source": [
        "Comparisons between arrays of the same size yield Boolean arrays"
      ]
    },
    {
      "cell_type": "code",
      "execution_count": null,
      "metadata": {
        "id": "GCvP5u1jl9CR"
      },
      "outputs": [],
      "source": [
        "arr2 = np.array([[0., 4., 1.], [7., 2., 12.]])\n",
        "arr2\n",
        "arr2 > arr"
      ]
    },
    {
      "cell_type": "markdown",
      "metadata": {},
      "source": [
        "### Basic Indexing and Slicing\n",
        "NumPy array indexing is a deep topic, as there are many ways you may want to select\n",
        "a  subset  of  your  data  or  individual  elements.  One-dimensional  arrays  are  simple;  on\n",
        "the surface they act similarly to Python lists"
      ]
    },
    {
      "cell_type": "code",
      "execution_count": null,
      "metadata": {
        "id": "KAMYF5nBl9CR"
      },
      "outputs": [],
      "source": [
        "arr = np.arange(10)\n",
        "arr\n",
        "arr[5]\n",
        "arr[5:8]\n",
        "arr[5:8] = 12\n",
        "arr"
      ]
    },
    {
      "cell_type": "code",
      "execution_count": null,
      "metadata": {
        "id": "s0gHz-xOl9CR"
      },
      "outputs": [],
      "source": [
        "arr_slice = arr[5:8]\n",
        "arr_slice"
      ]
    },
    {
      "cell_type": "code",
      "execution_count": null,
      "metadata": {
        "id": "bCCphPekl9CR"
      },
      "outputs": [],
      "source": [
        "arr_slice[1] = 12345\n",
        "arr"
      ]
    },
    {
      "cell_type": "code",
      "execution_count": null,
      "metadata": {
        "id": "xj3AcbX4l9CS"
      },
      "outputs": [],
      "source": [
        "arr_slice[:] = 64\n",
        "arr"
      ]
    },
    {
      "cell_type": "code",
      "execution_count": null,
      "metadata": {
        "id": "SKhoXujcl9CS"
      },
      "outputs": [],
      "source": [
        "arr2d = np.array([[1, 2, 3], [4, 5, 6], [7, 8, 9]])\n",
        "arr2d[2]"
      ]
    },
    {
      "cell_type": "markdown",
      "metadata": {},
      "source": [
        "As you can see, if you assign a scalar value to a slice, as in arr[5:8] = 12, the value is\n",
        "propagated (or broadcast henceforth) to the entire selection"
      ]
    },
    {
      "cell_type": "markdown",
      "metadata": {},
      "source": [
        "With higher dimensional arrays, you have many more options. In a two-dimensional\n",
        "array,  the  elements  at  each  index  are  no  longer  scalars  but  rather  one-dimensional\n",
        "arrays"
      ]
    },
    {
      "cell_type": "code",
      "execution_count": null,
      "metadata": {},
      "outputs": [],
      "source": [
        "arr2d = np.array([[1, 2, 3], [4, 5, 6], [7, 8, 9]])\n",
        "arr2d[2]"
      ]
    },
    {
      "cell_type": "markdown",
      "metadata": {},
      "source": [
        "Thus,  individual  elements  can  be  accessed  recursively.  But  that  is  a  bit  too  much\n",
        "work, so you can pass a comma-separated list of indices to select individual elements.\n",
        "So these are equivalent"
      ]
    },
    {
      "cell_type": "code",
      "execution_count": null,
      "metadata": {
        "id": "jqG4GQw1l9CS"
      },
      "outputs": [],
      "source": [
        "arr2d[0][2]\n",
        "arr2d[0, 2]"
      ]
    },
    {
      "attachments": {
        "image.png": {
          "image/png": "[encoded data removed]"
        }
      },
      "cell_type": "markdown",
      "metadata": {},
      "source": [
        "![image.png](attachment:image.png)"
      ]
    },
    {
      "cell_type": "markdown",
      "metadata": {},
      "source": [
        "In  multidimensional  arrays,  if  you  omit  later  indices,  the  returned  object  will  be  a\n",
        "lower dimensional ndarray consisting of all the data along the higher dimensions. So\n",
        "in the 2 × 2 × 3 array arr3d"
      ]
    },
    {
      "cell_type": "code",
      "execution_count": null,
      "metadata": {
        "id": "wN7irg_il9CS"
      },
      "outputs": [],
      "source": [
        "arr3d = np.array([[[1, 2, 3], [4, 5, 6]], [[7, 8, 9], [10, 11, 12]]])\n",
        "arr3d"
      ]
    },
    {
      "cell_type": "markdown",
      "metadata": {},
      "source": [
        "arr3d[0] is a 2 × 3 array"
      ]
    },
    {
      "cell_type": "code",
      "execution_count": null,
      "metadata": {
        "id": "MNpRHtI2l9CS"
      },
      "outputs": [],
      "source": [
        "arr3d[0]"
      ]
    },
    {
      "cell_type": "markdown",
      "metadata": {},
      "source": [
        "Both scalar values and arrays can be assigned to arr3d[0]"
      ]
    },
    {
      "cell_type": "code",
      "execution_count": null,
      "metadata": {
        "id": "e0dgbx0Vl9CS"
      },
      "outputs": [],
      "source": [
        "old_values = arr3d[0].copy()\n",
        "arr3d[0] = 42\n",
        "arr3d\n",
        "arr3d[0] = old_values\n",
        "arr3d"
      ]
    },
    {
      "cell_type": "markdown",
      "metadata": {},
      "source": [
        "Similarly,  arr3d[1, 0]  gives  you  all  of  the  values  whose  indices  start  with  (1, 0),\n",
        "forming a one-dimensional array"
      ]
    },
    {
      "cell_type": "code",
      "execution_count": null,
      "metadata": {
        "id": "rFzvQ14Cl9CT"
      },
      "outputs": [],
      "source": [
        "arr3d[1, 0]"
      ]
    },
    {
      "cell_type": "code",
      "execution_count": null,
      "metadata": {
        "id": "BAFfRXZ8l9CT"
      },
      "outputs": [],
      "source": [
        "x = arr3d[1]\n",
        "x\n",
        "x[0]"
      ]
    },
    {
      "cell_type": "markdown",
      "metadata": {},
      "source": [
        "### Indexing with slices\n",
        "Like  one-dimensional  objects  such  as  Python  lists,  ndarrays  can  be  sliced  with  the\n",
        "familiar syntax:"
      ]
    },
    {
      "cell_type": "code",
      "execution_count": null,
      "metadata": {
        "id": "f9VkMWIPl9CT"
      },
      "outputs": [],
      "source": [
        "arr\n",
        "arr[1:6]"
      ]
    },
    {
      "cell_type": "markdown",
      "metadata": {},
      "source": [
        "Consider  the  two-dimensional  array  from  before,  arr2d.  Slicing  this  array  is  a  bit\n",
        "different"
      ]
    },
    {
      "cell_type": "code",
      "execution_count": null,
      "metadata": {
        "id": "Trf4QvmAl9CT"
      },
      "outputs": [],
      "source": [
        "arr2d\n",
        "arr2d[:2]"
      ]
    },
    {
      "cell_type": "markdown",
      "metadata": {},
      "source": [
        "As  you  can  see,  it  has  sliced  along  axis  0,  the  first  axis.  A  slice,  therefore,  selects  a\n",
        "range of elements along an axis. It can be helpful to read the expression arr2d[:2] as\n",
        "“select the first two rows of arr2d.”\n",
        "You can pass multiple slices just like you can pass multiple indexes"
      ]
    },
    {
      "cell_type": "code",
      "execution_count": null,
      "metadata": {
        "id": "cTCFJByql9CT"
      },
      "outputs": [],
      "source": [
        "arr2d[:2, 1:]"
      ]
    },
    {
      "cell_type": "markdown",
      "metadata": {},
      "source": [
        "When slicing like this, you always obtain array views of the same number of dimen‐\n",
        "sions. By mixing integer indexes and slices, you get lower dimensional slices.\n",
        "For example, I can select the second row but only the first two columns, like so"
      ]
    },
    {
      "cell_type": "code",
      "execution_count": null,
      "metadata": {
        "id": "X4YbwW4Ul9CU"
      },
      "outputs": [],
      "source": [
        "lower_dim_slice = arr2d[1, :2]"
      ]
    },
    {
      "cell_type": "markdown",
      "metadata": {},
      "source": [
        "Here, while arr2d is two-dimensional, lower_dim_slice is one-dimensional, and its\n",
        "shape is a tuple with one axis size"
      ]
    },
    {
      "cell_type": "code",
      "execution_count": null,
      "metadata": {
        "id": "TeDaHlGfl9CU"
      },
      "outputs": [],
      "source": [
        "lower_dim_slice.shape"
      ]
    },
    {
      "cell_type": "markdown",
      "metadata": {},
      "source": [
        "Similarly, I can select the third column but only the first two rows, like so"
      ]
    },
    {
      "cell_type": "code",
      "execution_count": null,
      "metadata": {
        "id": "P-Uj4m7tl9CU"
      },
      "outputs": [],
      "source": [
        "arr2d[:2, 2]"
      ]
    },
    {
      "cell_type": "markdown",
      "metadata": {},
      "source": [
        "Note that a colon by itself means to take the entire\n",
        "axis, so you can slice only higher dimensional axes by doing"
      ]
    },
    {
      "cell_type": "code",
      "execution_count": null,
      "metadata": {
        "id": "Nz4Mz8u8l9CU"
      },
      "outputs": [],
      "source": [
        "arr2d[:, :1]"
      ]
    },
    {
      "cell_type": "markdown",
      "metadata": {},
      "source": [
        "Of course, assigning to a slice expression assigns to the whole selection"
      ]
    },
    {
      "cell_type": "code",
      "execution_count": null,
      "metadata": {
        "id": "AhN8GbZQl9Cs"
      },
      "outputs": [],
      "source": [
        "arr2d[:2, 1:] = 0\n",
        "arr2d"
      ]
    },
    {
      "attachments": {
        "image.png": {
          "image/png": "[encoded data removed]"
        }
      },
      "cell_type": "markdown",
      "metadata": {},
      "source": [
        "![image.png](attachment:image.png)"
      ]
    },
    {
      "cell_type": "markdown",
      "metadata": {},
      "source": [
        "### Boolean Indexing\n",
        "Let’s consider an example where we have some data in an array and an array of names\n",
        "with duplicates"
      ]
    },
    {
      "cell_type": "code",
      "execution_count": null,
      "metadata": {
        "id": "oZa_eE5Ml9Ct"
      },
      "outputs": [],
      "source": [
        "names = np.array([\"Bob\", \"Joe\", \"Will\", \"Bob\", \"Will\", \"Joe\", \"Joe\"])\n",
        "data = np.array([[4, 7], [0, 2], [-5, 6], [0, 0], [1, 2],\n",
        "                 [-12, -4], [3, 4]])\n",
        "names\n",
        "data"
      ]
    },
    {
      "cell_type": "code",
      "execution_count": null,
      "metadata": {
        "id": "TdlpB6kvl9Ct"
      },
      "outputs": [],
      "source": [
        "names == \"Bob\""
      ]
    },
    {
      "cell_type": "code",
      "execution_count": null,
      "metadata": {
        "id": "yq1brCbil9Ct"
      },
      "outputs": [],
      "source": [
        "data[names == \"Bob\"]"
      ]
    },
    {
      "cell_type": "markdown",
      "metadata": {},
      "source": [
        "The Boolean array must be of the same length as the array axis it’s indexing. You can\n",
        "even mix and match Boolean arrays with slices or integers (or sequences of integers;\n",
        "more on this later).\n",
        "In  these  examples,  I  select  from  the  rows  where  names  ==  \"Bob\"  and  index  the\n",
        "columns, too"
      ]
    },
    {
      "cell_type": "code",
      "execution_count": null,
      "metadata": {
        "id": "M8WqLsZ5l9Cu"
      },
      "outputs": [],
      "source": [
        "data[names == \"Bob\", 1:]\n",
        "data[names == \"Bob\", 1]"
      ]
    },
    {
      "cell_type": "markdown",
      "metadata": {},
      "source": [
        "To select everything but \"Bob\" you can either use != or negate the condition using -"
      ]
    },
    {
      "cell_type": "code",
      "execution_count": null,
      "metadata": {
        "id": "XaAw37-nl9Cu"
      },
      "outputs": [],
      "source": [
        "names != \"Bob\"\n",
        "~(names == \"Bob\")\n",
        "data[~(names == \"Bob\")]"
      ]
    },
    {
      "cell_type": "markdown",
      "metadata": {},
      "source": [
        "The ~ operator can be useful when you want to invert a Boolean array referenced by a\n",
        "variable"
      ]
    },
    {
      "cell_type": "code",
      "execution_count": null,
      "metadata": {
        "id": "pNUW_eeNl9Cu"
      },
      "outputs": [],
      "source": [
        "cond = names == \"Bob\"\n",
        "data[~cond]"
      ]
    },
    {
      "cell_type": "markdown",
      "metadata": {},
      "source": [
        "To  select  two  of  the  three  names  to  combine  multiple  Boolean  conditions,  use\n",
        "Boolean arithmetic operators like & (and) and | (or)"
      ]
    },
    {
      "cell_type": "code",
      "execution_count": null,
      "metadata": {
        "id": "U6RT8lhQl9Cu"
      },
      "outputs": [],
      "source": [
        "mask = (names == \"Bob\") | (names == \"Will\")\n",
        "mask\n",
        "data[mask]"
      ]
    },
    {
      "cell_type": "markdown",
      "metadata": {},
      "source": [
        "Setting  values  with  Boolean  arrays  works  by  substituting  the  value  or  values  on  the\n",
        "righthand side into the locations where the Boolean array’s values are True. To set all\n",
        "of the negative values in data to 0, we need only do"
      ]
    },
    {
      "cell_type": "code",
      "execution_count": null,
      "metadata": {
        "id": "xvif4HoBl9Cv"
      },
      "outputs": [],
      "source": [
        "data[data < 0] = 0\n",
        "data"
      ]
    },
    {
      "cell_type": "markdown",
      "metadata": {},
      "source": [
        "You can also set whole rows or columns using a one-dimensional Boolean array"
      ]
    },
    {
      "cell_type": "code",
      "execution_count": null,
      "metadata": {
        "id": "kBMLN9uwl9Cv"
      },
      "outputs": [],
      "source": [
        "data[names != \"Joe\"] = 7\n",
        "data"
      ]
    },
    {
      "cell_type": "markdown",
      "metadata": {},
      "source": [
        "### Fancy Indexing\n",
        "Fancy indexing is a term adopted by NumPy to describe indexing using integer arrays.\n",
        "Suppose we had an 8 × 4 array"
      ]
    },
    {
      "cell_type": "code",
      "execution_count": null,
      "metadata": {
        "id": "pNyIW3ywl9Cv"
      },
      "outputs": [],
      "source": [
        "arr = np.zeros((8, 4))\n",
        "for i in range(8):\n",
        "    arr[i] = i\n",
        "arr"
      ]
    },
    {
      "cell_type": "markdown",
      "metadata": {},
      "source": [
        "To  select  a  subset  of  the  rows  in  a  particular  order,  you  can  simply  pass  a  list  or\n",
        "ndarray of integers specifying the desired order"
      ]
    },
    {
      "cell_type": "code",
      "execution_count": null,
      "metadata": {
        "id": "z-SnA3hyl9Cv"
      },
      "outputs": [],
      "source": [
        "arr[[4, 3, 0, 6]]"
      ]
    },
    {
      "cell_type": "markdown",
      "metadata": {},
      "source": [
        "Hopefully this code did what you expected! Using negative indices selects rows from\n",
        "the end"
      ]
    },
    {
      "cell_type": "code",
      "execution_count": null,
      "metadata": {
        "id": "LH1qoGb6l9Cv"
      },
      "outputs": [],
      "source": [
        "arr[[-3, -5, -7]]"
      ]
    },
    {
      "cell_type": "markdown",
      "metadata": {},
      "source": [
        "Passing  multiple  index  arrays  does  something  slightly  different;  it  selects  a  one-\n",
        "dimensional array of elements corresponding to each tuple of indices"
      ]
    },
    {
      "cell_type": "code",
      "execution_count": null,
      "metadata": {
        "id": "hMkUX0eEl9Cw"
      },
      "outputs": [],
      "source": [
        "arr = np.arange(32).reshape((8, 4))\n",
        "arr\n",
        "arr[[1, 5, 7, 2], [0, 3, 1, 2]]"
      ]
    },
    {
      "cell_type": "markdown",
      "metadata": {},
      "source": [
        "The  behavior  of  fancy  indexing  in  this  case  is  a  bit  different  from  what  some  users\n",
        "might  have  expected  (myself  included),  which  is  the  rectangular  region  formed  by\n",
        "selecting a subset of the matrix’s rows and columns. Here is one way to get that"
      ]
    },
    {
      "cell_type": "code",
      "execution_count": null,
      "metadata": {
        "id": "c22NXoRKl9Cw"
      },
      "outputs": [],
      "source": [
        "arr[[1, 5, 7, 2]][:, [0, 3, 1, 2]]"
      ]
    },
    {
      "cell_type": "markdown",
      "metadata": {},
      "source": [
        "Keep  in  mind  that  fancy  indexing,  unlike  slicing,  always  copies  the  data  into  a  new\n",
        "array  when  assigning  the  result  to  a  new  variable.  If  you  assign  values  with  fancy\n",
        "indexing, the indexed values will be modified"
      ]
    },
    {
      "cell_type": "code",
      "execution_count": null,
      "metadata": {
        "id": "tjDS4RD1l9Cx"
      },
      "outputs": [],
      "source": [
        "arr[[1, 5, 7, 2], [0, 3, 1, 2]]\n",
        "arr[[1, 5, 7, 2], [0, 3, 1, 2]] = 0\n",
        "arr"
      ]
    },
    {
      "cell_type": "markdown",
      "metadata": {},
      "source": [
        "### Transposing Arrays and Swapping Axes\n",
        "Transposing  is  a  special  form  of  reshaping  that  similarly  returns  a  view  on  the\n",
        "underlying  data  without  copying  anything.  Arrays  have  the  transpose  method  and\n",
        "the special T attribute:"
      ]
    },
    {
      "cell_type": "code",
      "execution_count": null,
      "metadata": {
        "id": "dV4mS_-Ul9Cx"
      },
      "outputs": [],
      "source": [
        "arr = np.arange(15).reshape((3, 5))\n",
        "arr\n",
        "arr.T"
      ]
    },
    {
      "cell_type": "markdown",
      "metadata": {},
      "source": [
        "When  doing  matrix  computations,  you  may  do  this  very  often—for  example,  when\n",
        "computing the inner matrix product using numpy.dot"
      ]
    },
    {
      "cell_type": "code",
      "execution_count": null,
      "metadata": {
        "id": "5amUHsfzl9Cx"
      },
      "outputs": [],
      "source": [
        "arr = np.array([[0, 1, 0], [1, 2, -2], [6, 3, 2], [-1, 0, -1], [1, 0, 1]])\n",
        "arr\n",
        "np.dot(arr.T, arr)"
      ]
    },
    {
      "cell_type": "markdown",
      "metadata": {},
      "source": [
        "The @ infix operator is another way to do matrix multiplication"
      ]
    },
    {
      "cell_type": "code",
      "execution_count": null,
      "metadata": {
        "id": "78cwFGw2l9Cx"
      },
      "outputs": [],
      "source": [
        "arr.T @ arr"
      ]
    },
    {
      "cell_type": "markdown",
      "metadata": {},
      "source": [
        "Simple transposing with .T is a special case of swapping axes. ndarray has the method\n",
        "swapaxes,  which  takes  a  pair  of  axis  numbers  and  switches  the  indicated  axes  to\n",
        "rearrange the data"
      ]
    },
    {
      "cell_type": "code",
      "execution_count": null,
      "metadata": {
        "id": "yTX0DUhJl9Cy"
      },
      "outputs": [],
      "source": [
        "arr\n",
        "arr.swapaxes(0, 1)"
      ]
    },
    {
      "cell_type": "code",
      "execution_count": null,
      "metadata": {},
      "outputs": [],
      "source": [
        "# ===============================================\n",
        "# NumPy Array Manipulation and Operations\n",
        "# ===============================================\n",
        "\n",
        "# Import NumPy\n",
        "# TODO 1: Import NumPy (Hint: Use 'import numpy as np').\n",
        "# This will allow you to access all the NumPy functions easily.\n",
        "\n",
        "# -----------------------------------------------\n",
        "# Part 1: Arithmetic with NumPy Arrays\n",
        "# -----------------------------------------------\n",
        "\n",
        "# Step 1: Two arrays are given for you.\n",
        "arr1 = np.array([1, 2, 3, 4])\n",
        "arr2 = np.array([5, 6, 7, 8])\n",
        "\n",
        "# TODO 2: Perform the following operations using these arrays:\n",
        "# - Element-wise addition\n",
        "# - Element-wise multiplication\n",
        "# - Element-wise division\n",
        "# Print the results.\n",
        "# Hint: Use operators like `+`, `*`, `/` directly between the arrays.\n",
        "\n",
        "# -----------------------------------------------\n",
        "# Part 2: Basic Indexing and Slicing\n",
        "# -----------------------------------------------\n",
        "\n",
        "# Step 1: A 2D array is already defined for you.\n",
        "matrix = np.array([\n",
        "    [1, 2, 3],\n",
        "    [4, 5, 6],\n",
        "    [7, 8, 9]\n",
        "])\n",
        "\n",
        "# TODO 3: Perform the following tasks on the `matrix`:\n",
        "# - Extract the second row (Hint: Use slicing `matrix[row_index, :]`).\n",
        "# - Extract the first column (Hint: Use slicing `matrix[:, col_index]`).\n",
        "# - Extract the value `9` from the matrix.\n",
        "\n",
        "# Hint: Make use of indices and slicing to achieve these tasks.\n",
        "\n",
        "# -----------------------------------------------\n",
        "# Part 3: Boolean Indexing\n",
        "# -----------------------------------------------\n",
        "\n",
        "# TODO 4: Use the `matrix` from Part 2.\n",
        "# Find and print all values greater than 4.\n",
        "# Hint: Use a Boolean condition like `matrix > 4` to filter values.\n",
        "\n",
        "# -----------------------------------------------\n",
        "# Part 4: Fancy Indexing\n",
        "# -----------------------------------------------\n",
        "\n",
        "# Step 1: Use this array for fancy indexing.\n",
        "fancy_array = np.array([\n",
        "    [10, 20, 30],\n",
        "    [40, 50, 60],\n",
        "    [70, 80, 90]\n",
        "])\n",
        "\n",
        "# TODO 5: Extract values at the following positions using fancy indexing:\n",
        "# - Row 0, Column 2\n",
        "# - Row 1, Column 0\n",
        "# - Row 2, Column 1\n",
        "# Hint: Use NumPy arrays of row and column indices.\n",
        "# Example: np.array([row_indices]), np.array([col_indices]).\n",
        "\n",
        "# -----------------------------------------------\n",
        "# Part 5: Transposing Arrays and Swapping Axes\n",
        "# -----------------------------------------------\n",
        "\n",
        "# Step 1: Transpose the `matrix` created in Part 2.\n",
        "# TODO 6: Transpose the matrix and print the result.\n",
        "# Hint: Use `.T` to transpose a NumPy array.\n",
        "\n",
        "# Step 2: Create a 3D array.\n",
        "array_3d = np.arange(24).reshape(2, 3, 4)\n",
        "\n",
        "# TODO 7: Swap the first and second axes of the `array_3d`.\n",
        "# Hint: Use `np.swapaxes(array, axis1, axis2)` and print the result."
      ]
    },
    {
      "cell_type": "markdown",
      "metadata": {},
      "source": [
        "## Pseudorandom Number Generation\n",
        "The  numpy.random  module  supplements  the  built-in  Python  random  module  with\n",
        "functions for efficiently generating whole arrays of sample values from many kinds of\n",
        "probability distributions. For example, you can get a 4 × 4 array of samples from the\n",
        "standard normal distribution using numpy.random.standard_normal"
      ]
    },
    {
      "cell_type": "code",
      "execution_count": null,
      "metadata": {
        "id": "Eq_38BLjl9Cy"
      },
      "outputs": [],
      "source": [
        "samples = np.random.standard_normal(size=(4, 4))\n",
        "samples"
      ]
    },
    {
      "cell_type": "markdown",
      "metadata": {},
      "source": [
        "Python’s  built-in  random  module,  by  contrast,  samples  only  one  value  at  a  time.  As\n",
        "you  can  see  from  this  benchmark,  numpy.random  is  well  over  an  order  of  magnitude\n",
        "faster for generating very large samples:"
      ]
    },
    {
      "cell_type": "code",
      "execution_count": null,
      "metadata": {
        "id": "7bdE72NZl9Cy"
      },
      "outputs": [],
      "source": [
        "from random import normalvariate\n",
        "N = 1_000_000\n",
        "%timeit samples = [normalvariate(0, 1) for _ in range(N)]\n",
        "%timeit np.random.standard_normal(N)"
      ]
    },
    {
      "cell_type": "markdown",
      "metadata": {},
      "source": [
        "These  random  numbers  are  not  truly  random  (rather,  pseudorandom)  but  instead\n",
        "are generated by a configurable random number generator that determines determin‐\n",
        "istically  what  values  are  created.  Functions  like  numpy.random.standard_normal  use\n",
        "the numpy.random module’s default random number generator, but your code can be\n",
        "configured to use an explicit generator"
      ]
    },
    {
      "cell_type": "code",
      "execution_count": null,
      "metadata": {
        "id": "cEzxK1zRl9Cy"
      },
      "outputs": [],
      "source": [
        "rng = np.random.default_rng(seed=12345)\n",
        "data = rng.standard_normal((2, 3))"
      ]
    },
    {
      "cell_type": "markdown",
      "metadata": {},
      "source": [
        "The seed argument is what determines the initial state of the generator, and the state\n",
        "changes each time the rng object is used to generate data. The generator object rng is\n",
        "also isolated from other code which might use the numpy.random module"
      ]
    },
    {
      "cell_type": "code",
      "execution_count": null,
      "metadata": {
        "id": "57q7kv0tl9Cy"
      },
      "outputs": [],
      "source": [
        "type(rng)"
      ]
    },
    {
      "cell_type": "markdown",
      "metadata": {},
      "source": [
        "## Universal Functions: Fast Element-Wise ArrayFunctions\n",
        "A  universal  function,  or  ufunc,  is  a  function  that  performs  element-wise  operations\n",
        "on  data  in  ndarrays.  You  can  think  of  them  as  fast  vectorized  wrappers  for  simple\n",
        "functions that take one or more scalar values and produce one or more scalar results.\n",
        "Many ufuncs are simple element-wise transformations, like numpy.sqrt or\n",
        "numpy.exp"
      ]
    },
    {
      "cell_type": "code",
      "execution_count": null,
      "metadata": {
        "id": "zrxT79vtl9Cy"
      },
      "outputs": [],
      "source": [
        "arr = np.arange(10)\n",
        "arr\n",
        "np.sqrt(arr)\n",
        "np.exp(arr)"
      ]
    },
    {
      "cell_type": "markdown",
      "metadata": {},
      "source": [
        "These are referred to as unary ufuncs. Others, such as numpy.add or numpy.maximum,\n",
        "take two arrays (thus, binary ufuncs) and return a single array as the result"
      ]
    },
    {
      "cell_type": "code",
      "execution_count": null,
      "metadata": {
        "id": "DZC_u0Bdl9Cy"
      },
      "outputs": [],
      "source": [
        "x = rng.standard_normal(8)\n",
        "y = rng.standard_normal(8)\n",
        "x\n",
        "y\n",
        "np.maximum(x, y)"
      ]
    },
    {
      "cell_type": "markdown",
      "metadata": {},
      "source": [
        "In  this  example,  numpy.maximum  computed  the  element-wise  maximum  of  the  ele‐\n",
        "ments in x and y.\n",
        "While not common, a ufunc can return multiple arrays. numpy.modf is one example:\n",
        "a  vectorized  version  of  the  built-in  Python  math.modf,  it  returns  the  fractional  and\n",
        "integral parts of a floating-point array"
      ]
    },
    {
      "cell_type": "code",
      "execution_count": null,
      "metadata": {
        "id": "muRgneTNl9Cz"
      },
      "outputs": [],
      "source": [
        "arr = rng.standard_normal(7) * 5\n",
        "arr\n",
        "remainder, whole_part = np.modf(arr)\n",
        "remainder\n",
        "whole_part"
      ]
    },
    {
      "cell_type": "markdown",
      "metadata": {},
      "source": [
        "Ufuncs accept an optional out argument that allows them to assign their results into\n",
        "an existing array rather than create a new one"
      ]
    },
    {
      "cell_type": "code",
      "execution_count": null,
      "metadata": {
        "id": "grxqqSuSl9Cz"
      },
      "outputs": [],
      "source": [
        "arr\n",
        "out = np.zeros_like(arr)\n",
        "np.add(arr, 1)\n",
        "np.add(arr, 1, out=out)\n",
        "out"
      ]
    },
    {
      "cell_type": "markdown",
      "metadata": {},
      "source": [
        "## Array-Oriented Programming with Arrays\n",
        "Using  NumPy  arrays  enables  you  to  express  many  kinds  of  data  processing  tasks  as\n",
        "concise  array  expressions  that  might  otherwise  require  writing  loops.  This  practice\n",
        "of  replacing  explicit  loops  with  array  expressions  is  referred  to  by  some  people\n",
        "as  vectorization.  In  general,  vectorized  array  operations  will  usually  be  significantly\n",
        "faster  than  their  pure  Python  equivalents,  with  the  biggest  impact  in  any  kind  of\n",
        "numerical  computations.  Later,  in  Appendix  A,  I  explain  broadcasting,  a  powerful\n",
        "method for vectorizing computations.\n",
        "\n",
        "As  a  simple  example,  suppose  we  wished  to  evaluate  the  function  sqrt(x^2  +\n",
        "y^2)  across  a  regular  grid  of  values.  The  numpy.meshgrid  function  takes  two  one-\n",
        "dimensional arrays and produces two two-dimensional matrices corresponding to all\n",
        "pairs of (x, y) in the two arrays"
      ]
    },
    {
      "cell_type": "code",
      "execution_count": null,
      "metadata": {
        "id": "qaPDhOkzl9Cz"
      },
      "outputs": [],
      "source": [
        "points = np.arange(-5, 5, 0.01) # 100 equally spaced points\n",
        "xs, ys = np.meshgrid(points, points)\n",
        "ys"
      ]
    },
    {
      "cell_type": "code",
      "execution_count": null,
      "metadata": {
        "id": "1-VsuzRJl9Cz"
      },
      "outputs": [],
      "source": [
        "z = np.sqrt(xs ** 2 + ys ** 2)\n",
        "z"
      ]
    },
    {
      "cell_type": "code",
      "execution_count": null,
      "metadata": {
        "id": "anZzUwetl9Cz"
      },
      "outputs": [],
      "source": [
        "import matplotlib.pyplot as plt\n",
        "plt.imshow(z, cmap=plt.cm.gray, extent=[-5, 5, -5, 5])\n",
        "plt.colorbar()\n",
        "plt.title(\"Image plot of $\\sqrt{x^2 + y^2}$ for a grid of values\")"
      ]
    },
    {
      "cell_type": "code",
      "execution_count": null,
      "metadata": {
        "id": "TRoTppPQl9Cz"
      },
      "outputs": [],
      "source": [
        "plt.draw()"
      ]
    },
    {
      "cell_type": "code",
      "execution_count": null,
      "metadata": {
        "id": "sZOyPsq0l9Cz"
      },
      "outputs": [],
      "source": [
        "plt.close(\"all\")"
      ]
    },
    {
      "cell_type": "code",
      "execution_count": null,
      "metadata": {
        "id": "PWGUvRmol9C0"
      },
      "outputs": [],
      "source": [
        "xarr = np.array([1.1, 1.2, 1.3, 1.4, 1.5])\n",
        "yarr = np.array([2.1, 2.2, 2.3, 2.4, 2.5])\n",
        "cond = np.array([True, False, True, True, False])"
      ]
    },
    {
      "cell_type": "code",
      "execution_count": null,
      "metadata": {
        "id": "oNc17GXVl9C0"
      },
      "outputs": [],
      "source": [
        "result = [(x if c else y)\n",
        "          for x, y, c in zip(xarr, yarr, cond)]\n",
        "result"
      ]
    },
    {
      "cell_type": "code",
      "execution_count": null,
      "metadata": {
        "id": "xHNb6ebJl9C0"
      },
      "outputs": [],
      "source": [
        "result = np.where(cond, xarr, yarr)\n",
        "result"
      ]
    },
    {
      "cell_type": "code",
      "execution_count": null,
      "metadata": {
        "id": "YxHPLepFl9C0"
      },
      "outputs": [],
      "source": [
        "arr = rng.standard_normal((4, 4))\n",
        "arr\n",
        "arr > 0\n",
        "np.where(arr > 0, 2, -2)"
      ]
    },
    {
      "cell_type": "code",
      "execution_count": null,
      "metadata": {
        "id": "zsJAR6s3l9C0"
      },
      "outputs": [],
      "source": [
        "np.where(arr > 0, 2, arr) # set only positive values to 2"
      ]
    },
    {
      "cell_type": "code",
      "execution_count": null,
      "metadata": {
        "id": "BZdt1qNfl9C0"
      },
      "outputs": [],
      "source": [
        "arr = rng.standard_normal((5, 4))\n",
        "arr\n",
        "arr.mean()\n",
        "np.mean(arr)\n",
        "arr.sum()"
      ]
    },
    {
      "cell_type": "code",
      "execution_count": null,
      "metadata": {
        "id": "dSvyXBvjl9C0"
      },
      "outputs": [],
      "source": [
        "arr.mean(axis=1)\n",
        "arr.sum(axis=0)"
      ]
    },
    {
      "cell_type": "code",
      "execution_count": null,
      "metadata": {
        "id": "5H_YahrFl9C0"
      },
      "outputs": [],
      "source": [
        "arr = np.array([0, 1, 2, 3, 4, 5, 6, 7])\n",
        "arr.cumsum()"
      ]
    },
    {
      "cell_type": "code",
      "execution_count": null,
      "metadata": {
        "id": "WlW0jVrZl9C1"
      },
      "outputs": [],
      "source": [
        "arr = np.array([[0, 1, 2], [3, 4, 5], [6, 7, 8]])\n",
        "arr"
      ]
    },
    {
      "cell_type": "code",
      "execution_count": null,
      "metadata": {
        "id": "BuRqSE9Yl9C1"
      },
      "outputs": [],
      "source": [
        "arr.cumsum(axis=0)\n",
        "arr.cumsum(axis=1)"
      ]
    },
    {
      "cell_type": "code",
      "execution_count": null,
      "metadata": {
        "id": "PIxqMLeDl9C1"
      },
      "outputs": [],
      "source": [
        "arr = rng.standard_normal(100)\n",
        "(arr > 0).sum() # Number of positive values\n",
        "(arr <= 0).sum() # Number of non-positive values"
      ]
    },
    {
      "cell_type": "code",
      "execution_count": null,
      "metadata": {
        "id": "jArujaBXl9C1"
      },
      "outputs": [],
      "source": [
        "bools = np.array([False, False, True, False])\n",
        "bools.any()\n",
        "bools.all()"
      ]
    },
    {
      "cell_type": "code",
      "execution_count": null,
      "metadata": {
        "id": "xAgJ6p5pl9C1"
      },
      "outputs": [],
      "source": [
        "arr = rng.standard_normal(6)\n",
        "arr\n",
        "arr.sort()\n",
        "arr"
      ]
    },
    {
      "cell_type": "code",
      "execution_count": null,
      "metadata": {
        "id": "bWaWQNPQl9C1"
      },
      "outputs": [],
      "source": [
        "arr = rng.standard_normal((5, 3))\n",
        "arr"
      ]
    },
    {
      "cell_type": "code",
      "execution_count": null,
      "metadata": {
        "id": "ixC4Nbbkl9C1"
      },
      "outputs": [],
      "source": [
        "arr.sort(axis=0)\n",
        "arr\n",
        "arr.sort(axis=1)\n",
        "arr"
      ]
    },
    {
      "cell_type": "code",
      "execution_count": null,
      "metadata": {
        "id": "MC-gmy7hl9C1"
      },
      "outputs": [],
      "source": [
        "arr2 = np.array([5, -10, 7, 1, 0, -3])\n",
        "sorted_arr2 = np.sort(arr2)\n",
        "sorted_arr2"
      ]
    },
    {
      "cell_type": "code",
      "execution_count": null,
      "metadata": {
        "id": "KokURbaYl9C2"
      },
      "outputs": [],
      "source": [
        "names = np.array([\"Bob\", \"Will\", \"Joe\", \"Bob\", \"Will\", \"Joe\", \"Joe\"])\n",
        "np.unique(names)\n",
        "ints = np.array([3, 3, 3, 2, 2, 1, 1, 4, 4])\n",
        "np.unique(ints)"
      ]
    },
    {
      "cell_type": "code",
      "execution_count": null,
      "metadata": {
        "id": "HVSvxw1Nl9C2"
      },
      "outputs": [],
      "source": [
        "sorted(set(names))"
      ]
    },
    {
      "cell_type": "code",
      "execution_count": null,
      "metadata": {
        "id": "3TKBE5vNl9C2"
      },
      "outputs": [],
      "source": [
        "values = np.array([6, 0, 0, 3, 2, 5, 6])\n",
        "np.in1d(values, [2, 3, 6])"
      ]
    },
    {
      "cell_type": "code",
      "execution_count": null,
      "metadata": {
        "id": "wjng_I4Zl9C2"
      },
      "outputs": [],
      "source": [
        "arr = np.arange(10)\n",
        "np.save(\"some_array\", arr)"
      ]
    },
    {
      "cell_type": "code",
      "execution_count": null,
      "metadata": {
        "id": "y7s_U34dl9C2"
      },
      "outputs": [],
      "source": [
        "np.load(\"some_array.npy\")"
      ]
    },
    {
      "cell_type": "code",
      "execution_count": null,
      "metadata": {
        "id": "Pqba8aLtl9C2"
      },
      "outputs": [],
      "source": [
        "np.savez(\"array_archive.npz\", a=arr, b=arr)"
      ]
    },
    {
      "cell_type": "code",
      "execution_count": null,
      "metadata": {
        "id": "m2kYg8jXl9C2"
      },
      "outputs": [],
      "source": [
        "arch = np.load(\"array_archive.npz\")\n",
        "arch[\"b\"]"
      ]
    },
    {
      "cell_type": "code",
      "execution_count": null,
      "metadata": {
        "id": "i4ihL2Xkl9C2"
      },
      "outputs": [],
      "source": [
        "np.savez_compressed(\"arrays_compressed.npz\", a=arr, b=arr)"
      ]
    },
    {
      "cell_type": "code",
      "execution_count": null,
      "metadata": {
        "id": "pq_aOYmql9C2"
      },
      "outputs": [],
      "source": [
        "!rm some_array.npy\n",
        "!rm array_archive.npz\n",
        "!rm arrays_compressed.npz"
      ]
    },
    {
      "cell_type": "code",
      "execution_count": null,
      "metadata": {
        "id": "fbX6xhKnl9C2"
      },
      "outputs": [],
      "source": [
        "x = np.array([[1., 2., 3.], [4., 5., 6.]])\n",
        "y = np.array([[6., 23.], [-1, 7], [8, 9]])\n",
        "x\n",
        "y\n",
        "x.dot(y)"
      ]
    },
    {
      "cell_type": "code",
      "execution_count": null,
      "metadata": {
        "id": "X4pdDX5al9C2"
      },
      "outputs": [],
      "source": [
        "np.dot(x, y)"
      ]
    },
    {
      "cell_type": "code",
      "execution_count": null,
      "metadata": {
        "id": "WpAEYLuol9C3"
      },
      "outputs": [],
      "source": [
        "x @ np.ones(3)"
      ]
    },
    {
      "cell_type": "code",
      "execution_count": null,
      "metadata": {
        "id": "o2dBPhIil9C3"
      },
      "outputs": [],
      "source": [
        "from numpy.linalg import inv, qr\n",
        "X = rng.standard_normal((5, 5))\n",
        "mat = X.T @ X\n",
        "inv(mat)\n",
        "mat @ inv(mat)"
      ]
    },
    {
      "cell_type": "code",
      "execution_count": null,
      "metadata": {
        "id": "IEPIheHwl9C3"
      },
      "outputs": [],
      "source": [
        "import random\n",
        "position = 0\n",
        "walk = [position]\n",
        "nsteps = 1000\n",
        "for _ in range(nsteps):\n",
        "    step = 1 if random.randint(0, 1) else -1\n",
        "    position += step\n",
        "    walk.append(position)\n"
      ]
    },
    {
      "cell_type": "code",
      "execution_count": null,
      "metadata": {
        "id": "aUP9O7FXl9C3"
      },
      "outputs": [],
      "source": [
        "plt.figure()"
      ]
    },
    {
      "cell_type": "code",
      "execution_count": null,
      "metadata": {
        "id": "skq6beiSl9C3"
      },
      "outputs": [],
      "source": [
        "plt.plot(walk[:100])"
      ]
    },
    {
      "cell_type": "code",
      "execution_count": null,
      "metadata": {
        "id": "ODgeHTvPl9C3"
      },
      "outputs": [],
      "source": [
        "nsteps = 1000\n",
        "rng = np.random.default_rng(seed=12345)  # fresh random generator\n",
        "draws = rng.integers(0, 2, size=nsteps)\n",
        "steps = np.where(draws == 0, 1, -1)\n",
        "walk = steps.cumsum()"
      ]
    },
    {
      "cell_type": "code",
      "execution_count": null,
      "metadata": {
        "id": "STT36XqGl9C3"
      },
      "outputs": [],
      "source": [
        "walk.min()\n",
        "walk.max()"
      ]
    },
    {
      "cell_type": "code",
      "execution_count": null,
      "metadata": {
        "id": "4Qftzsh4l9C4"
      },
      "outputs": [],
      "source": [
        "(np.abs(walk) >= 10).argmax()"
      ]
    },
    {
      "cell_type": "code",
      "execution_count": null,
      "metadata": {
        "id": "YBljoGMhl9C4"
      },
      "outputs": [],
      "source": [
        "nwalks = 5000\n",
        "nsteps = 1000\n",
        "draws = rng.integers(0, 2, size=(nwalks, nsteps)) # 0 or 1\n",
        "steps = np.where(draws > 0, 1, -1)\n",
        "walks = steps.cumsum(axis=1)\n",
        "walks"
      ]
    },
    {
      "cell_type": "code",
      "execution_count": null,
      "metadata": {
        "id": "CXx4Zt_nl9C4"
      },
      "outputs": [],
      "source": [
        "walks.max()\n",
        "walks.min()"
      ]
    },
    {
      "cell_type": "code",
      "execution_count": null,
      "metadata": {
        "id": "76-fjqsol9C4"
      },
      "outputs": [],
      "source": [
        "hits30 = (np.abs(walks) >= 30).any(axis=1)\n",
        "hits30\n",
        "hits30.sum() # Number that hit 30 or -30"
      ]
    },
    {
      "cell_type": "code",
      "execution_count": null,
      "metadata": {
        "id": "m5p22TC5l9C4"
      },
      "outputs": [],
      "source": [
        "crossing_times = (np.abs(walks[hits30]) >= 30).argmax(axis=1)\n",
        "crossing_times"
      ]
    },
    {
      "cell_type": "code",
      "execution_count": null,
      "metadata": {
        "id": "XJ_4ph5hl9C4"
      },
      "outputs": [],
      "source": [
        "crossing_times.mean()"
      ]
    },
    {
      "cell_type": "code",
      "execution_count": null,
      "metadata": {
        "id": "o9L1vnN9l9C4"
      },
      "outputs": [],
      "source": [
        "draws = 0.25 * rng.standard_normal((nwalks, nsteps))"
      ]
    },
    {
      "cell_type": "code",
      "execution_count": null,
      "metadata": {
        "id": "W45bYXSsl9C4"
      },
      "outputs": [],
      "source": []
    }
  ],
  "metadata": {
    "colab": {
      "provenance": []
    },
    "kernelspec": {
      "display_name": ".venv",
      "language": "python",
      "name": "python3"
    },
    "language_info": {
      "codemirror_mode": {
        "name": "ipython",
        "version": 3
      },
      "file_extension": ".py",
      "mimetype": "text/x-python",
      "name": "python",
      "nbconvert_exporter": "python",
      "pygments_lexer": "ipython3",
      "version": "3.13.1"
    }
  },
  "nbformat": 4,
  "nbformat_minor": 0
}
