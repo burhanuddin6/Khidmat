{
 "cells": [
  {
   "cell_type": "markdown",
   "id": "dcb1fb0d",
   "metadata": {},
   "source": [
    "# Pandas Basics: Data Analysis and Manipulation\n",
    "\n",
    "Pandas is a powerful, fast, and flexible open-source data analysis and manipulation library built on top of NumPy. It provides data structures and functions needed to work efficiently with structured data, such as tables and time-series.\n",
    "\n",
    "## Key Features of Pandas:\n",
    "1. Provides **Series** and **DataFrame**, powerful data structures for efficient data manipulation.\n",
    "2. Supports **data alignment**, **handling missing data**, and **label-based indexing**.\n",
    "3. Offers built-in **grouping, merging, and reshaping capabilities**.\n",
    "4. **High-performance** operations for reading/writing various file formats (CSV, Excel, SQL, etc.).\n",
    "5. Enables **time-series functionality** and **data cleaning tools**.\n"
   ]
  },
  {
   "cell_type": "markdown",
   "id": "7fc21e37",
   "metadata": {},
   "source": [
    "## Working with Pandas Series\n",
    "\n",
    "A **Series** is a one-dimensional labeled array that can hold any data type.\n"
   ]
  },
  {
   "cell_type": "code",
   "execution_count": 5,
   "id": "3e5bf162",
   "metadata": {},
   "outputs": [],
   "source": [
    "import pandas as pd\n",
    "import numpy as np"
   ]
  },
  {
   "cell_type": "code",
   "execution_count": 12,
   "id": "3cfa0e36",
   "metadata": {},
   "outputs": [
    {
     "name": "stdout",
     "output_type": "stream",
     "text": [
      "a    10\n",
      "b    20\n",
      "c    30\n",
      "d    40\n",
      "e    50\n",
      "dtype: int64\n"
     ]
    }
   ],
   "source": [
    "# Creating a Pandas Series\n",
    "data = [10, 20, 30, 40, 50]\n",
    "index_labels = ['a', 'b', 'c', 'd', 'e']\n",
    "series = pd.Series(data, index=index_labels)\n",
    "\n",
    "# Display the series\n",
    "print(series)"
   ]
  },
  {
   "cell_type": "markdown",
   "id": "f52b6efd",
   "metadata": {},
   "source": [
    "Creating a simple pandas Series without an index"
   ]
  },
  {
   "cell_type": "code",
   "execution_count": 7,
   "id": "333e52fe",
   "metadata": {},
   "outputs": [
    {
     "data": {
      "text/plain": [
       "0    4\n",
       "1    7\n",
       "2   -5\n",
       "3    3\n",
       "dtype: int64"
      ]
     },
     "execution_count": 7,
     "metadata": {},
     "output_type": "execute_result"
    }
   ],
   "source": [
    "obj = pd.Series([4, 7, -5, 3])\n",
    "obj"
   ]
  },
  {
   "cell_type": "markdown",
   "id": "fa0c5783",
   "metadata": {},
   "source": [
    "Accessing the array representation and index of the Series"
   ]
  },
  {
   "cell_type": "code",
   "execution_count": 11,
   "id": "82b799a1",
   "metadata": {},
   "outputs": [
    {
     "name": "stdout",
     "output_type": "stream",
     "text": [
      "<NumpyExtensionArray>\n",
      "[np.int64(4), np.int64(7), np.int64(-5), np.int64(3)]\n",
      "Length: 4, dtype: int64\n",
      "RangeIndex(start=0, stop=4, step=1)\n"
     ]
    }
   ],
   "source": [
    "print(obj.array)  # Returns a PandasArray wrapping a NumPy array\n",
    "print(obj.index)  # Default RangeIndex from 0 to N-1\n"
   ]
  },
  {
   "cell_type": "markdown",
   "id": "c2c9190f",
   "metadata": {},
   "source": [
    "Creating a Series with a custom index"
   ]
  },
  {
   "cell_type": "code",
   "execution_count": null,
   "id": "066c07a8",
   "metadata": {},
   "outputs": [],
   "source": [
    "obj2 = pd.Series([4, 7, -5, 3], index=[\"d\", \"b\", \"a\", \"c\"])\n",
    "print(obj2)"
   ]
  },
  {
   "cell_type": "markdown",
   "id": "a33b2d5d",
   "metadata": {},
   "source": [
    "Accessing the index of the Series\n"
   ]
  },
  {
   "cell_type": "code",
   "execution_count": null,
   "id": "f243b53c",
   "metadata": {},
   "outputs": [],
   "source": [
    "print(obj2.index)"
   ]
  },
  {
   "cell_type": "markdown",
   "id": "70494fd4",
   "metadata": {},
   "source": [
    "Accessing values using labels"
   ]
  },
  {
   "cell_type": "code",
   "execution_count": null,
   "id": "5b6fd48e",
   "metadata": {},
   "outputs": [],
   "source": [
    "\n",
    "print(obj2[\"a\"])  # Returns -5\n",
    "obj2[\"d\"] = 6  # Modifies value at index \"d\"\n",
    "print(obj2[[\"c\", \"a\", \"d\"]])  # Selecting multiple values using index labels\n"
   ]
  },
  {
   "cell_type": "markdown",
   "id": "90134bd1",
   "metadata": {},
   "source": [
    "Checking membership in Series index"
   ]
  },
  {
   "cell_type": "code",
   "execution_count": null,
   "id": "e76a5a5f",
   "metadata": {},
   "outputs": [],
   "source": [
    "print(\"b\" in obj2)  # Returns True\n",
    "print(\"e\" in obj2)  # Returns False\n"
   ]
  },
  {
   "cell_type": "markdown",
   "id": "56d89e4e",
   "metadata": {},
   "source": [
    "Creating a Series from a Python dictionary"
   ]
  },
  {
   "cell_type": "code",
   "execution_count": null,
   "id": "9b4c1a6f",
   "metadata": {},
   "outputs": [],
   "source": [
    "sdata = {\"Ohio\": 35000, \"Texas\": 71000, \"Oregon\": 16000, \"Utah\": 5000}\n",
    "obj3 = pd.Series(sdata)\n",
    "print(obj3)\n"
   ]
  },
  {
   "cell_type": "markdown",
   "id": "a1bc9c2c",
   "metadata": {},
   "source": [
    "Converting a Series back to a dictionary"
   ]
  },
  {
   "cell_type": "code",
   "execution_count": null,
   "id": "7ca878cf",
   "metadata": {},
   "outputs": [],
   "source": [
    " \n",
    "print(obj3.to_dict())"
   ]
  },
  {
   "cell_type": "markdown",
   "id": "4a546704",
   "metadata": {},
   "source": [
    "Creating a Series with a custom index that is different from dictionary keys"
   ]
  },
  {
   "cell_type": "code",
   "execution_count": null,
   "id": "66d48718",
   "metadata": {},
   "outputs": [],
   "source": [
    "states = [\"California\", \"Ohio\", \"Oregon\", \"Texas\"]\n",
    "obj4 = pd.Series(sdata, index=states)\n",
    "print(obj4)  # \"California\" will have NaN since it's not in sdata"
   ]
  },
  {
   "cell_type": "markdown",
   "id": "c1931020",
   "metadata": {},
   "source": [
    "Checking for missing values"
   ]
  },
  {
   "cell_type": "code",
   "execution_count": null,
   "id": "70919450",
   "metadata": {},
   "outputs": [],
   "source": [
    "\n",
    "print(pd.isna(obj4))  # Returns a boolean Series\n",
    "print(pd.notna(obj4))  # Opposite of isna()\n"
   ]
  },
  {
   "cell_type": "markdown",
   "id": "6f9a77f6",
   "metadata": {},
   "source": [
    "Using instance methods to check missing values"
   ]
  },
  {
   "cell_type": "code",
   "execution_count": null,
   "id": "b9bb228a",
   "metadata": {},
   "outputs": [],
   "source": [
    "\n",
    "print(obj4.isna())  # Returns a boolean Series"
   ]
  },
  {
   "cell_type": "markdown",
   "id": "288a44da",
   "metadata": {},
   "source": [
    "Performing arithmetic operations while aligning indexes"
   ]
  },
  {
   "cell_type": "code",
   "execution_count": null,
   "id": "eaf03f59",
   "metadata": {},
   "outputs": [],
   "source": [
    "\n",
    "print(obj3 + obj4)  # Missing values propagate (NaN)"
   ]
  },
  {
   "cell_type": "markdown",
   "id": "03b3c794",
   "metadata": {},
   "source": [
    "Assigning names to Series and index"
   ]
  },
  {
   "cell_type": "code",
   "execution_count": null,
   "id": "26def116",
   "metadata": {},
   "outputs": [],
   "source": [
    "\n",
    "obj4.name = \"population\"\n",
    "obj4.index.name = \"state\"\n",
    "print(obj4)"
   ]
  },
  {
   "cell_type": "markdown",
   "id": "c3fc5169",
   "metadata": {},
   "source": [
    "Modifying the index of a Series"
   ]
  },
  {
   "cell_type": "code",
   "execution_count": null,
   "id": "deabbb01",
   "metadata": {},
   "outputs": [],
   "source": [
    "\n",
    "obj.index = [\"Bob\", \"Steve\", \"Jeff\", \"Ryan\"]\n",
    "print(obj)"
   ]
  },
  {
   "cell_type": "code",
   "execution_count": null,
   "id": "ceeab312",
   "metadata": {},
   "outputs": [],
   "source": [
    "import pandas as pd\n",
    "\n",
    "# ===============================================\n",
    "# Part 1: Creating a Pandas Series\n",
    "# ===============================================\n",
    "\n",
    "# Step 1: Create a simple Pandas Series with the following values: [5, 10, 15, 20, 25]\n",
    "#         and assign it to a variable called `s1`.\n",
    "\n",
    "# Hint: Use the `pd.Series()` function. You can pass a list of values to it.\n",
    "\n",
    "s1 = pd.Series([5, 10, 15, 20, 25])\n",
    "print(\"Part 1 - Simple Series:\")\n",
    "print(s1)\n",
    "print(\"\\n\")\n",
    "\n",
    "# Step 2: Create another Pandas Series with custom indexes. \n",
    "#         Use the following data: [50, 100, 150, 200]\n",
    "#         Assign it to a variable called `s2`, and use indexes ['a', 'b', 'c', 'd'].\n",
    "\n",
    "# Hint: Provide a list of index values using the `index` parameter in `pd.Series()`.\n",
    "\n",
    "s2 = pd.Series([50, 100, 150, 200], index=['a', 'b', 'c', 'd'])\n",
    "print(\"Part 2 - Series with Custom Indexes:\")\n",
    "print(s2)\n",
    "print(\"\\n\")\n",
    "\n",
    "# ===============================================\n",
    "# Part 2: Accessing and Manipulating Data in Series\n",
    "# ===============================================\n",
    "\n",
    "# Step 3: Access the value at index 'c' in the `s2` Series.\n",
    "\n",
    "# Hint: You can access values using the index like `s2['c']`.\n",
    "\n",
    "value_c = s2['c']\n",
    "print(\"Part 3 - Accessing value at index 'c' in s2:\")\n",
    "print(value_c)\n",
    "print(\"\\n\")\n",
    "\n",
    "# Step 4: Add `s1` and `s2` element-wise. \n",
    "#         Make sure that the indexes in both Series match before performing the operation.\n",
    "\n",
    "# Hint: You might need to reindex `s1` or `s2` to match each other. Use `reindex()` if needed.\n",
    "\n",
    "# First, let's reindex s1 to match the indexes of s2.\n",
    "s1_reindexed = s1.reindex(['a', 'b', 'c', 'd', 'e'])\n",
    "print(\"Part 4 - Adding s1 and s2 element-wise after reindexing:\")\n",
    "print(s1_reindexed + s2)\n",
    "print(\"\\n\")\n",
    "\n",
    "# Step 5: Multiply `s1` by 3.\n",
    "\n",
    "# Hint: You can multiply a Series by a scalar directly (like `s1 * 3`).\n",
    "\n",
    "s1_multiplied = s1 * 3\n",
    "print(\"Part 5 - Multiply s1 by 3:\")\n",
    "print(s1_multiplied)\n",
    "print(\"\\n\")\n",
    "\n",
    "# Step 6: Filter out values in `s1` that are greater than 15.\n",
    "\n",
    "# Hint: You can filter values in a Series by applying a condition like `s1[s1 > 15]`.\n",
    "\n",
    "filtered_values = s1[s1 > 15]\n",
    "print(\"Part 6 - Filter values in s1 greater than 15:\")\n",
    "print(filtered_values)\n",
    "print(\"\\n\")\n",
    "\n",
    "# ===============================================\n",
    "# Part 3: Additional Task\n",
    "# ===============================================\n",
    "\n",
    "# Step 7: Create a Series where the indexes are ['one', 'two', 'three', 'four', 'five']\n",
    "#         and the values are the squares of the numbers 1, 2, 3, 4, 5. \n",
    "#         Assign it to a variable called `squares_series`.\n",
    "\n",
    "# Hint: You can manually create the squares of numbers from 1 to 5 or use a loop/list comprehension.\n",
    "\n",
    "squares_series = pd.Series([1, 4, 9, 16, 25], index=['one', 'two', 'three', 'four', 'five'])\n",
    "print(\"Part 7 - Series of squares from 1 to 5:\")\n",
    "print(squares_series)"
   ]
  },
  {
   "cell_type": "markdown",
   "id": "bd153b15",
   "metadata": {},
   "source": [
    "## Working with Pandas DataFrame\n",
    "\n",
    "A **DataFrame** is a two-dimensional table with labeled axes (rows and columns). It is the most commonly used pandas structure for handling tabular data.\n"
   ]
  },
  {
   "cell_type": "code",
   "execution_count": null,
   "id": "cb4d17a8",
   "metadata": {},
   "outputs": [],
   "source": [
    "# Creating a Pandas DataFrame\n",
    "data = {\n",
    "    'Name': ['Alice', 'Bob', 'Charlie', 'David'],\n",
    "    'Age': [25, 30, 35, 40],\n",
    "    'Salary': [50000, 60000, 70000, 80000]\n",
    "}\n",
    "\n",
    "df = pd.DataFrame(data)\n",
    "\n",
    "# Display the DataFrame\n",
    "print(df)"
   ]
  },
  {
   "cell_type": "markdown",
   "id": "fcdb859b",
   "metadata": {},
   "source": [
    "Creating a DataFrame from a dictionary of lists\n",
    "Each key in the dictionary represents a column name, and values are lists of equal length"
   ]
  },
  {
   "cell_type": "code",
   "execution_count": null,
   "id": "52755210",
   "metadata": {},
   "outputs": [],
   "source": [
    "\n",
    "data = {\n",
    "    \"state\": [\"Ohio\", \"Ohio\", \"Ohio\", \"Nevada\", \"Nevada\", \"Nevada\"],\n",
    "    \"year\": [2000, 2001, 2002, 2001, 2002, 2003],\n",
    "    \"pop\": [1.5, 1.7, 3.6, 2.4, 2.9, 3.2]\n",
    "}"
   ]
  },
  {
   "cell_type": "code",
   "execution_count": null,
   "id": "e946d529",
   "metadata": {},
   "outputs": [],
   "source": [
    "frame = pd.DataFrame(data)  # Creating the DataFrame\n",
    "print(frame)  # Displaying the DataFrame"
   ]
  },
  {
   "cell_type": "markdown",
   "id": "b74b0a07",
   "metadata": {},
   "source": [
    "Display the first 5 rows using head()"
   ]
  },
  {
   "cell_type": "code",
   "execution_count": null,
   "id": "3d7eab65",
   "metadata": {},
   "outputs": [],
   "source": [
    "\n",
    "print(\"First 5 rows:\")\n",
    "print(frame.head())\n"
   ]
  },
  {
   "cell_type": "markdown",
   "id": "dda36b2f",
   "metadata": {},
   "source": [
    "Display the last 5 rows using tail()"
   ]
  },
  {
   "cell_type": "code",
   "execution_count": null,
   "id": "df4cac54",
   "metadata": {},
   "outputs": [],
   "source": [
    "\n",
    "print(\"Last 5 rows:\")\n",
    "print(frame.tail())"
   ]
  },
  {
   "cell_type": "markdown",
   "id": "d9f831f8",
   "metadata": {},
   "source": [
    "Specifying column order when creating a DataFrame"
   ]
  },
  {
   "cell_type": "code",
   "execution_count": null,
   "id": "32017deb",
   "metadata": {},
   "outputs": [],
   "source": [
    "\n",
    "frame_reordered = pd.DataFrame(data, columns=[\"year\", \"state\", \"pop\"])\n",
    "print(\"DataFrame with reordered columns:\")\n",
    "print(frame_reordered)\n"
   ]
  },
  {
   "cell_type": "markdown",
   "id": "bec867f9",
   "metadata": {},
   "source": [
    "Adding a new column 'debt' that does not exist in the original data"
   ]
  },
  {
   "cell_type": "code",
   "execution_count": null,
   "id": "2da1a9ea",
   "metadata": {},
   "outputs": [],
   "source": [
    " \n",
    "frame2 = pd.DataFrame(data, columns=[\"year\", \"state\", \"pop\", \"debt\"])\n",
    "print(\"DataFrame with new 'debt' column (NaN values):\")\n",
    "print(frame2)"
   ]
  },
  {
   "cell_type": "markdown",
   "id": "2b742c73",
   "metadata": {},
   "source": [
    "Displaying column names"
   ]
  },
  {
   "cell_type": "code",
   "execution_count": null,
   "id": "1b153a26",
   "metadata": {},
   "outputs": [],
   "source": [
    " \n",
    "print(\"Column names:\")\n",
    "print(frame2.columns)"
   ]
  },
  {
   "cell_type": "markdown",
   "id": "892e3303",
   "metadata": {},
   "source": [
    "Accessing a single column using dictionary-like notation"
   ]
  },
  {
   "cell_type": "code",
   "execution_count": null,
   "id": "eb0564a8",
   "metadata": {},
   "outputs": [],
   "source": [
    "\n",
    "print(\"State column:\")\n",
    "print(frame2[\"state\"])  # Returns a Series\n",
    "\n"
   ]
  },
  {
   "cell_type": "markdown",
   "id": "e5e8ae25",
   "metadata": {},
   "source": [
    "Accessing a single column using dot notation"
   ]
  },
  {
   "cell_type": "code",
   "execution_count": null,
   "id": "980a5afc",
   "metadata": {},
   "outputs": [],
   "source": [
    "\n",
    "print(\"Year column:\")\n",
    "print(frame2.year)  # Works if column name is a valid Python identifier\n",
    "\n"
   ]
  },
  {
   "cell_type": "markdown",
   "id": "eb0731b7",
   "metadata": {},
   "source": [
    "Accessing a row using loc (by label/index)"
   ]
  },
  {
   "cell_type": "code",
   "execution_count": null,
   "id": "d6b83f8b",
   "metadata": {},
   "outputs": [],
   "source": [
    "\n",
    "print(\"Row at index 1:\")\n",
    "print(frame2.loc[1])"
   ]
  },
  {
   "cell_type": "markdown",
   "id": "66f312e7",
   "metadata": {},
   "source": [
    "Accessing a row using iloc (by numerical index)"
   ]
  },
  {
   "cell_type": "code",
   "execution_count": null,
   "id": "44f92f6d",
   "metadata": {},
   "outputs": [],
   "source": [
    "\n",
    "print(\"Row at index 2:\")\n",
    "print(frame2.iloc[2])\n",
    "\n"
   ]
  },
  {
   "cell_type": "markdown",
   "id": "db011b65",
   "metadata": {},
   "source": [
    "Modifying an entire column by assigning a scalar value"
   ]
  },
  {
   "cell_type": "code",
   "execution_count": null,
   "id": "4d3c985f",
   "metadata": {},
   "outputs": [],
   "source": [
    "\n",
    "frame2[\"debt\"] = 16.5\n",
    "print(\"DataFrame after assigning a scalar value to 'debt' column:\")\n",
    "print(frame2)\n",
    "\n"
   ]
  },
  {
   "cell_type": "markdown",
   "id": "ce28c49e",
   "metadata": {},
   "source": [
    "Assigning an array to a column"
   ]
  },
  {
   "cell_type": "code",
   "execution_count": null,
   "id": "2f83ce0b",
   "metadata": {},
   "outputs": [],
   "source": [
    "\n",
    "frame2[\"debt\"] = np.arange(6.)\n",
    "print(\"DataFrame after assigning an array to 'debt' column:\")\n",
    "print(frame2)\n",
    "\n"
   ]
  },
  {
   "cell_type": "markdown",
   "id": "b23de1ad",
   "metadata": {},
   "source": [
    "Assigning a Series to a column (index alignment happens)"
   ]
  },
  {
   "cell_type": "code",
   "execution_count": null,
   "id": "4b32cde1",
   "metadata": {},
   "outputs": [],
   "source": [
    "\n",
    "val = pd.Series([-1.2, -1.5, -1.7], index=[\"two\", \"four\", \"five\"])\n",
    "frame2[\"debt\"] = val  # Since indexes do not match, NaN values are inserted\n",
    "print(\"DataFrame after assigning a Series to 'debt' column:\")\n",
    "print(frame2)"
   ]
  },
  {
   "cell_type": "markdown",
   "id": "2753d215",
   "metadata": {},
   "source": [
    "Adding a new column based on a condition"
   ]
  },
  {
   "cell_type": "code",
   "execution_count": null,
   "id": "8f718046",
   "metadata": {},
   "outputs": [],
   "source": [
    "\n",
    "frame2[\"eastern\"] = frame2[\"state\"] == \"Ohio\"\n",
    "print(\"DataFrame after adding 'eastern' column:\")\n",
    "print(frame2)\n",
    "\n"
   ]
  },
  {
   "cell_type": "markdown",
   "id": "ed13607d",
   "metadata": {},
   "source": [
    "Deleting a column using 'del'"
   ]
  },
  {
   "cell_type": "code",
   "execution_count": null,
   "id": "f84da140",
   "metadata": {},
   "outputs": [],
   "source": [
    "\n",
    "del frame2[\"eastern\"]\n",
    "print(\"DataFrame after deleting 'eastern' column:\")\n",
    "print(frame2)"
   ]
  },
  {
   "cell_type": "markdown",
   "id": "182000bf",
   "metadata": {},
   "source": [
    "Creating a nested dictionary"
   ]
  },
  {
   "cell_type": "code",
   "execution_count": null,
   "id": "66ca2edd",
   "metadata": {},
   "outputs": [],
   "source": [
    "# \n",
    "populations = {\"Ohio\": {2000: 1.5, 2001: 1.7, 2002: 3.6},\n",
    "               \"Nevada\": {2001: 2.4, 2002: 2.9}}"
   ]
  },
  {
   "cell_type": "markdown",
   "id": "02bec6bc",
   "metadata": {},
   "source": [
    "Converting nested dictionary to DataFrame"
   ]
  },
  {
   "cell_type": "code",
   "execution_count": null,
   "id": "d39f8247",
   "metadata": {},
   "outputs": [],
   "source": [
    "# \n",
    "frame3 = pd.DataFrame(populations)\n",
    "print(frame3)"
   ]
  },
  {
   "cell_type": "markdown",
   "id": "8ad2931e",
   "metadata": {},
   "source": [
    "Transposing the DataFrame (rows become columns and vice versa)"
   ]
  },
  {
   "cell_type": "code",
   "execution_count": null,
   "id": "d5327d47",
   "metadata": {},
   "outputs": [],
   "source": [
    "# \n",
    "print(frame3.T)"
   ]
  },
  {
   "cell_type": "markdown",
   "id": "dae246cd",
   "metadata": {},
   "source": [
    "Creating DataFrame with explicit index"
   ]
  },
  {
   "cell_type": "code",
   "execution_count": null,
   "id": "489eb2de",
   "metadata": {},
   "outputs": [],
   "source": [
    "# \n",
    "print(pd.DataFrame(populations, index=[2001, 2002, 2003]))"
   ]
  },
  {
   "cell_type": "markdown",
   "id": "ecbf7290",
   "metadata": {},
   "source": [
    "Creating a dictionary of Series from the existing DataFrame"
   ]
  },
  {
   "cell_type": "code",
   "execution_count": null,
   "id": "68fd9b07",
   "metadata": {},
   "outputs": [],
   "source": [
    "# \n",
    "pdata = {\"Ohio\": frame3[\"Ohio\"][:-1], \"Nevada\": frame3[\"Nevada\"][:2]}\n",
    "print(pd.DataFrame(pdata))\n"
   ]
  },
  {
   "cell_type": "markdown",
   "id": "736153ae",
   "metadata": {},
   "source": [
    "Setting index and column names"
   ]
  },
  {
   "cell_type": "code",
   "execution_count": null,
   "id": "748eb848",
   "metadata": {},
   "outputs": [],
   "source": [
    "# \n",
    "frame3.index.name = \"year\"\n",
    "frame3.columns.name = \"state\"\n",
    "print(frame3)"
   ]
  },
  {
   "cell_type": "markdown",
   "id": "0188e796",
   "metadata": {},
   "source": [
    "Converting DataFrame to NumPy array"
   ]
  },
  {
   "cell_type": "code",
   "execution_count": null,
   "id": "e0fdf963",
   "metadata": {},
   "outputs": [],
   "source": [
    "# \n",
    "print(frame3.to_numpy())"
   ]
  },
  {
   "cell_type": "markdown",
   "id": "bd08907f",
   "metadata": {},
   "source": [
    "Creating a Series with a custom index"
   ]
  },
  {
   "cell_type": "code",
   "execution_count": null,
   "id": "96c6f941",
   "metadata": {},
   "outputs": [],
   "source": [
    "# \n",
    "obj = pd.Series(np.arange(3), index=[\"a\", \"b\", \"c\"])\n",
    "index = obj.index\n",
    "print(index)"
   ]
  },
  {
   "cell_type": "markdown",
   "id": "e4f22d3b",
   "metadata": {},
   "source": [
    "Index slicing"
   ]
  },
  {
   "cell_type": "code",
   "execution_count": null,
   "id": "0d390bfd",
   "metadata": {},
   "outputs": [],
   "source": [
    "# \n",
    "print(index[1:])"
   ]
  },
  {
   "cell_type": "markdown",
   "id": "cb96038c",
   "metadata": {},
   "source": [
    "Index objects are immutable"
   ]
  },
  {
   "cell_type": "code",
   "execution_count": null,
   "id": "ac5fbb80",
   "metadata": {},
   "outputs": [],
   "source": [
    "\n",
    "index[1] = \"d\"  # This would raise a TypeError"
   ]
  },
  {
   "cell_type": "markdown",
   "id": "39ee26c0",
   "metadata": {},
   "source": [
    "Creating an Index object explicitly"
   ]
  },
  {
   "cell_type": "code",
   "execution_count": null,
   "id": "2218e3ae",
   "metadata": {},
   "outputs": [],
   "source": [
    "labels = pd.Index(np.arange(3))\n",
    "print(labels)"
   ]
  },
  {
   "cell_type": "markdown",
   "id": "9d40f750",
   "metadata": {},
   "source": [
    "Using Index object in a Series"
   ]
  },
  {
   "cell_type": "code",
   "execution_count": null,
   "id": "12506abf",
   "metadata": {},
   "outputs": [],
   "source": [
    "# \n",
    "obj2 = pd.Series([1.5, -2.5, 0], index=labels)\n",
    "print(obj2)"
   ]
  },
  {
   "cell_type": "markdown",
   "id": "476e573a",
   "metadata": {},
   "source": [
    "Checking if the same Index object is used"
   ]
  },
  {
   "cell_type": "code",
   "execution_count": null,
   "id": "b7163828",
   "metadata": {},
   "outputs": [],
   "source": [
    "\n",
    "# \n",
    "print(obj2.index is labels)"
   ]
  },
  {
   "cell_type": "markdown",
   "id": "4b9c380e",
   "metadata": {},
   "source": [
    "checking for presence in Index"
   ]
  },
  {
   "cell_type": "code",
   "execution_count": null,
   "id": "0b1188ca",
   "metadata": {},
   "outputs": [],
   "source": [
    "#\n",
    "print(\"Ohio\" in frame3.columns)\n",
    "print(2003 in frame3.index)"
   ]
  },
  {
   "cell_type": "markdown",
   "id": "a629e4ab",
   "metadata": {},
   "source": [
    "Creating an Index with duplicate labels"
   ]
  },
  {
   "cell_type": "code",
   "execution_count": null,
   "id": "3d89a22f",
   "metadata": {},
   "outputs": [],
   "source": [
    "# \n",
    "print(pd.Index([\"foo\", \"foo\", \"bar\", \"bar\"]))"
   ]
  },
  {
   "cell_type": "markdown",
   "id": "0a59e6cf",
   "metadata": {},
   "source": [
    "Using Index methods"
   ]
  },
  {
   "cell_type": "code",
   "execution_count": null,
   "id": "a676efa3",
   "metadata": {},
   "outputs": [],
   "source": [
    "# \n",
    "index1 = pd.Index([\"a\", \"b\", \"c\"])\n",
    "index2 = pd.Index([\"c\", \"d\", \"e\"])\n",
    "print(index1.append(index2))  # Concatenating indexes\n",
    "print(index1.difference(index2))  # Set difference\n",
    "print(index1.intersection(index2))  # Set intersection\n",
    "print(index1.union(index2))  # Set union"
   ]
  },
  {
   "cell_type": "markdown",
   "id": "4e29f848",
   "metadata": {},
   "source": [
    "Checking properties of an Index"
   ]
  },
  {
   "cell_type": "code",
   "execution_count": null,
   "id": "60d65788",
   "metadata": {},
   "outputs": [],
   "source": [
    "# \n",
    "monotonic_index = pd.Index([1, 2, 3])\n",
    "print(monotonic_index.is_monotonic)  # True if sorted\n",
    "print(monotonic_index.is_unique)  # True if no duplicates\n",
    "\n"
   ]
  },
  {
   "cell_type": "markdown",
   "id": "5a962931",
   "metadata": {},
   "source": [
    "Getting unique values from an Index"
   ]
  },
  {
   "cell_type": "code",
   "execution_count": null,
   "id": "5bd36d88",
   "metadata": {},
   "outputs": [],
   "source": [
    "\n",
    "print(pd.Index([1, 2, 2, 3]).unique())\n"
   ]
  },
  {
   "cell_type": "code",
   "execution_count": null,
   "id": "70fa3099",
   "metadata": {},
   "outputs": [],
   "source": [
    "# Exercise: Pandas DataFrame Practice\n",
    "\n",
    "import pandas as pd\n",
    "\n",
    "data = {\n",
    "    'Name': ['John', 'Anna', 'Peter', 'Linda'],\n",
    "    'Age': [28, 24, 35, 32],\n",
    "    'City': ['New York', 'Paris', 'Berlin', 'London']\n",
    "}\n",
    "\n",
    "# Part 1: Create DataFrame\n",
    "# 1. Create a DataFrame `df1` from the following dictionary:\n",
    "#   Assign the dictionary to `df1` and print it.\n",
    "#   Hint: Use pd.DataFrame(data)\n",
    "\n",
    "# TODO: Write your code here\n",
    "\n",
    "# Part 2: Indexing and Accessing Columns\n",
    "# 2. Access the \"Age\" column of the DataFrame `df1` and print it.\n",
    "#    Hint: You can use df1['Age'] to access the 'Age' column.\n",
    "\n",
    "# TODO: Write your code here\n",
    "\n",
    "# 3. Access the first row of `df1` (i.e., the data of the person named \"John\") and print it.\n",
    "#    Hint: Use df1.iloc[0] to access the first row.\n",
    "\n",
    "# TODO: Write your code here\n",
    "\n",
    "# Part 3: Adding a New Column\n",
    "# 4. Add a new column `Salary` to the DataFrame `df1` with the following values:\n",
    "#    [50000, 60000, 55000, 45000].\n",
    "#    Print the updated DataFrame.\n",
    "#    Hint: You can add a new column using df1['Salary'] = [50000, 60000, 55000, 45000]\n",
    "\n",
    "# TODO: Write your code here\n",
    "\n",
    "# Part 4: Modifying Data\n",
    "# 5. Modify the `City` of the person named \"Peter\" to \"Madrid\". Print the updated DataFrame.\n",
    "#    Hint: Use df1.loc[df1['Name'] == 'Peter', 'City'] = 'Madrid' to modify the value.\n",
    "\n",
    "# TODO: Write your code here\n",
    "\n",
    "# Part 5: Filtering Data\n",
    "# 6. Filter the DataFrame `df1` to show only people who are older than 30. Print the filtered DataFrame.\n",
    "#    Hint: Use df1[df1['Age'] > 30] for filtering the data.\n",
    "\n",
    "# TODO: Write your code here\n",
    "\n",
    "# Part 6: Drop a Row\n",
    "# 7. Drop the row corresponding to \"Anna\" from the DataFrame `df1` and print the updated DataFrame.\n",
    "#    Hint: Use df1 = df1[df1['Name'] != 'Anna'] to drop a row.\n",
    "\n",
    "# TODO: Write your code here\n",
    "\n",
    "# Part 7: Sorting the DataFrame\n",
    "# 8. Sort the DataFrame `df1` by the \"Age\" column in descending order and print the sorted DataFrame.\n",
    "#    Hint: Use df1.sort_values(by='Age', ascending=False) to sort by Age.\n",
    "\n",
    "# TODO: Write your code here"
   ]
  },
  {
   "cell_type": "markdown",
   "id": "bc41c68d",
   "metadata": {},
   "source": [
    "## Data Manipulation with Pandas\n",
    "\n",
    "Pandas provides powerful functions for filtering, sorting, and aggregating data.\n"
   ]
  },
  {
   "cell_type": "code",
   "execution_count": null,
   "id": "b615bbed",
   "metadata": {},
   "outputs": [],
   "source": [
    "# Filtering Data\n",
    "filtered_df = df[df['Age'] > 30]\n",
    "\n",
    "# Sorting Data\n",
    "sorted_df = df.sort_values(by='Salary', ascending=False)\n",
    "\n",
    "# Aggregation (Mean Salary)\n",
    "mean_salary = df['Salary'].mean()\n",
    "\n",
    "print(\"Filtered DataFrame:\")\n",
    "print(filtered_df)\n",
    "\n",
    "print(\"\\nSorted DataFrame:\")\n",
    "print(sorted_df)\n",
    "\n",
    "print(f\"\\nMean Salary: {mean_salary}\")"
   ]
  }
 ],
 "metadata": {
  "kernelspec": {
   "display_name": "Python 3",
   "language": "python",
   "name": "python3"
  },
  "language_info": {
   "codemirror_mode": {
    "name": "ipython",
    "version": 3
   },
   "file_extension": ".py",
   "mimetype": "text/x-python",
   "name": "python",
   "nbconvert_exporter": "python",
   "pygments_lexer": "ipython3",
   "version": "3.13.1"
  }
 },
 "nbformat": 4,
 "nbformat_minor": 5
}
